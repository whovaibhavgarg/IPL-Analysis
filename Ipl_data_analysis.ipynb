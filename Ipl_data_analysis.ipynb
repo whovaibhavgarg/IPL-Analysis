{
 "cells": [
  {
   "cell_type": "markdown",
   "id": "349cde1b-1597-4592-a13f-682df0c84173",
   "metadata": {},
   "source": [
    "# ASSIGNMENT OF REAL_TIME_DATA_ANALYSIS OF IPL DATA"
   ]
  },
  {
   "cell_type": "code",
   "execution_count": 96,
   "id": "32eaa1bf-f45d-4cb2-aaaa-ffde71e385c7",
   "metadata": {},
   "outputs": [],
   "source": [
    "import numpy as np\n",
    "import pandas as pd\n",
    "import matplotlib.pyplot as pyplot"
   ]
  },
  {
   "cell_type": "markdown",
   "id": "a269432e-f6b2-4fcd-85d5-08843f74ed44",
   "metadata": {},
   "source": [
    "## 1st part of assignment"
   ]
  },
  {
   "cell_type": "code",
   "execution_count": 97,
   "id": "106018c6-b359-4252-b9ac-eb53968ddee3",
   "metadata": {},
   "outputs": [],
   "source": [
    "df=pd.read_csv(r'C:\\Users\\91926\\Downloads\\Ball_by_Ball.csv')"
   ]
  },
  {
   "cell_type": "code",
   "execution_count": 196,
   "id": "7d55eda7-0f10-48f9-a547-24e5a878740b",
   "metadata": {},
   "outputs": [
    {
     "data": {
      "text/html": [
       "<div>\n",
       "<style scoped>\n",
       "    .dataframe tbody tr th:only-of-type {\n",
       "        vertical-align: middle;\n",
       "    }\n",
       "\n",
       "    .dataframe tbody tr th {\n",
       "        vertical-align: top;\n",
       "    }\n",
       "\n",
       "    .dataframe thead th {\n",
       "        text-align: right;\n",
       "    }\n",
       "</style>\n",
       "<table border=\"1\" class=\"dataframe\">\n",
       "  <thead>\n",
       "    <tr style=\"text-align: right;\">\n",
       "      <th></th>\n",
       "      <th>Match_Id</th>\n",
       "      <th>Innings_Id</th>\n",
       "      <th>Over_Id</th>\n",
       "      <th>Ball_Id</th>\n",
       "      <th>Team_Batting_Id</th>\n",
       "      <th>Team_Bowling_Id</th>\n",
       "      <th>Striker_Id</th>\n",
       "      <th>Striker_Batting_Position</th>\n",
       "      <th>Non_Striker_Id</th>\n",
       "      <th>Bowler_Id</th>\n",
       "      <th>Batsman_Scored</th>\n",
       "      <th>Extra_Type</th>\n",
       "      <th>Extra_Runs</th>\n",
       "      <th>Player_dissimal_Id</th>\n",
       "      <th>Dissimal_Type</th>\n",
       "      <th>Fielder_Id</th>\n",
       "    </tr>\n",
       "  </thead>\n",
       "  <tbody>\n",
       "    <tr>\n",
       "      <th>0</th>\n",
       "      <td>335987</td>\n",
       "      <td>1</td>\n",
       "      <td>1</td>\n",
       "      <td>1</td>\n",
       "      <td>1</td>\n",
       "      <td>2</td>\n",
       "      <td>1</td>\n",
       "      <td>1</td>\n",
       "      <td>2</td>\n",
       "      <td>14</td>\n",
       "      <td>0</td>\n",
       "      <td>legbyes</td>\n",
       "      <td>1</td>\n",
       "      <td></td>\n",
       "      <td></td>\n",
       "      <td></td>\n",
       "    </tr>\n",
       "    <tr>\n",
       "      <th>1</th>\n",
       "      <td>335987</td>\n",
       "      <td>1</td>\n",
       "      <td>1</td>\n",
       "      <td>2</td>\n",
       "      <td>1</td>\n",
       "      <td>2</td>\n",
       "      <td>2</td>\n",
       "      <td>2</td>\n",
       "      <td>1</td>\n",
       "      <td>14</td>\n",
       "      <td>0</td>\n",
       "      <td></td>\n",
       "      <td></td>\n",
       "      <td></td>\n",
       "      <td></td>\n",
       "      <td></td>\n",
       "    </tr>\n",
       "    <tr>\n",
       "      <th>2</th>\n",
       "      <td>335987</td>\n",
       "      <td>1</td>\n",
       "      <td>1</td>\n",
       "      <td>3</td>\n",
       "      <td>1</td>\n",
       "      <td>2</td>\n",
       "      <td>2</td>\n",
       "      <td>2</td>\n",
       "      <td>1</td>\n",
       "      <td>14</td>\n",
       "      <td>0</td>\n",
       "      <td>wides</td>\n",
       "      <td>1</td>\n",
       "      <td></td>\n",
       "      <td></td>\n",
       "      <td></td>\n",
       "    </tr>\n",
       "    <tr>\n",
       "      <th>3</th>\n",
       "      <td>335987</td>\n",
       "      <td>1</td>\n",
       "      <td>1</td>\n",
       "      <td>4</td>\n",
       "      <td>1</td>\n",
       "      <td>2</td>\n",
       "      <td>2</td>\n",
       "      <td>2</td>\n",
       "      <td>1</td>\n",
       "      <td>14</td>\n",
       "      <td>0</td>\n",
       "      <td></td>\n",
       "      <td></td>\n",
       "      <td></td>\n",
       "      <td></td>\n",
       "      <td></td>\n",
       "    </tr>\n",
       "    <tr>\n",
       "      <th>4</th>\n",
       "      <td>335987</td>\n",
       "      <td>1</td>\n",
       "      <td>1</td>\n",
       "      <td>5</td>\n",
       "      <td>1</td>\n",
       "      <td>2</td>\n",
       "      <td>2</td>\n",
       "      <td>2</td>\n",
       "      <td>1</td>\n",
       "      <td>14</td>\n",
       "      <td>0</td>\n",
       "      <td></td>\n",
       "      <td></td>\n",
       "      <td></td>\n",
       "      <td></td>\n",
       "      <td></td>\n",
       "    </tr>\n",
       "  </tbody>\n",
       "</table>\n",
       "</div>"
      ],
      "text/plain": [
       "   Match_Id  Innings_Id  Over_Id  Ball_Id  Team_Batting_Id  Team_Bowling_Id  \\\n",
       "0    335987           1        1        1                1                2   \n",
       "1    335987           1        1        2                1                2   \n",
       "2    335987           1        1        3                1                2   \n",
       "3    335987           1        1        4                1                2   \n",
       "4    335987           1        1        5                1                2   \n",
       "\n",
       "   Striker_Id  Striker_Batting_Position  Non_Striker_Id  Bowler_Id  \\\n",
       "0           1                         1               2         14   \n",
       "1           2                         2               1         14   \n",
       "2           2                         2               1         14   \n",
       "3           2                         2               1         14   \n",
       "4           2                         2               1         14   \n",
       "\n",
       "  Batsman_Scored Extra_Type Extra_Runs Player_dissimal_Id Dissimal_Type  \\\n",
       "0              0    legbyes          1                                    \n",
       "1              0                                                          \n",
       "2              0      wides          1                                    \n",
       "3              0                                                          \n",
       "4              0                                                          \n",
       "\n",
       "  Fielder_Id  \n",
       "0             \n",
       "1             \n",
       "2             \n",
       "3             \n",
       "4             "
      ]
     },
     "execution_count": 196,
     "metadata": {},
     "output_type": "execute_result"
    }
   ],
   "source": [
    "df.head(5)"
   ]
  },
  {
   "cell_type": "code",
   "execution_count": 99,
   "id": "e10300c0-be38-4b83-863e-faa54965ec8a",
   "metadata": {},
   "outputs": [
    {
     "name": "stdout",
     "output_type": "stream",
     "text": [
      "<class 'pandas.core.frame.DataFrame'>\n",
      "RangeIndex: 136590 entries, 0 to 136589\n",
      "Data columns (total 16 columns):\n",
      " #   Column                    Non-Null Count   Dtype \n",
      "---  ------                    --------------   ----- \n",
      " 0   Match_Id                  136590 non-null  int64 \n",
      " 1   Innings_Id                136590 non-null  int64 \n",
      " 2   Over_Id                   136590 non-null  int64 \n",
      " 3   Ball_Id                   136590 non-null  int64 \n",
      " 4   Team_Batting_Id           136590 non-null  int64 \n",
      " 5   Team_Bowling_Id           136590 non-null  int64 \n",
      " 6   Striker_Id                136590 non-null  int64 \n",
      " 7   Striker_Batting_Position  136590 non-null  int64 \n",
      " 8   Non_Striker_Id            136590 non-null  int64 \n",
      " 9   Bowler_Id                 136590 non-null  int64 \n",
      " 10  Batsman_Scored            136590 non-null  object\n",
      " 11  Extra_Type                136590 non-null  object\n",
      " 12  Extra_Runs                136590 non-null  object\n",
      " 13  Player_dissimal_Id        136590 non-null  object\n",
      " 14  Dissimal_Type             136590 non-null  object\n",
      " 15  Fielder_Id                136590 non-null  object\n",
      "dtypes: int64(10), object(6)\n",
      "memory usage: 16.7+ MB\n"
     ]
    }
   ],
   "source": [
    "df.info()"
   ]
  },
  {
   "cell_type": "markdown",
   "id": "1f96a5b0-a3c4-4ee3-9991-f3ada2a4c613",
   "metadata": {},
   "source": [
    "### Top 5 bowler_Id who took maximum wickets"
   ]
  },
  {
   "cell_type": "code",
   "execution_count": 100,
   "id": "afa2bba0-affb-4b28-ab11-8fb14e548e1d",
   "metadata": {},
   "outputs": [
    {
     "data": {
      "text/plain": [
       "array([' ', 'caught', 'bowled', 'run out', 'lbw', 'retired hurt',\n",
       "       'stumped', 'caught and bowled', 'hit wicket',\n",
       "       'obstructing the field'], dtype=object)"
      ]
     },
     "execution_count": 100,
     "metadata": {},
     "output_type": "execute_result"
    }
   ],
   "source": [
    "df['Dissimal_Type'].unique()"
   ]
  },
  {
   "cell_type": "code",
   "execution_count": 101,
   "id": "502a2b19-f8ab-4c2c-8e31-c9dd058ab718",
   "metadata": {},
   "outputs": [],
   "source": [
    "data=df[(df['Dissimal_Type']!=' ')&(df['Dissimal_Type']!='run out')]"
   ]
  },
  {
   "cell_type": "code",
   "execution_count": 195,
   "id": "765e86ad-9ae0-4d40-877d-9a671fa366dc",
   "metadata": {},
   "outputs": [
    {
     "data": {
      "text/html": [
       "<div>\n",
       "<style scoped>\n",
       "    .dataframe tbody tr th:only-of-type {\n",
       "        vertical-align: middle;\n",
       "    }\n",
       "\n",
       "    .dataframe tbody tr th {\n",
       "        vertical-align: top;\n",
       "    }\n",
       "\n",
       "    .dataframe thead th {\n",
       "        text-align: right;\n",
       "    }\n",
       "</style>\n",
       "<table border=\"1\" class=\"dataframe\">\n",
       "  <thead>\n",
       "    <tr style=\"text-align: right;\">\n",
       "      <th></th>\n",
       "      <th>Match_Id</th>\n",
       "      <th>Innings_Id</th>\n",
       "      <th>Over_Id</th>\n",
       "      <th>Ball_Id</th>\n",
       "      <th>Team_Batting_Id</th>\n",
       "      <th>Team_Bowling_Id</th>\n",
       "      <th>Striker_Id</th>\n",
       "      <th>Striker_Batting_Position</th>\n",
       "      <th>Non_Striker_Id</th>\n",
       "      <th>Bowler_Id</th>\n",
       "      <th>Batsman_Scored</th>\n",
       "      <th>Extra_Type</th>\n",
       "      <th>Extra_Runs</th>\n",
       "      <th>Player_dissimal_Id</th>\n",
       "      <th>Dissimal_Type</th>\n",
       "      <th>Fielder_Id</th>\n",
       "    </tr>\n",
       "  </thead>\n",
       "  <tbody>\n",
       "    <tr>\n",
       "      <th>33</th>\n",
       "      <td>335987</td>\n",
       "      <td>1</td>\n",
       "      <td>6</td>\n",
       "      <td>2</td>\n",
       "      <td>1</td>\n",
       "      <td>2</td>\n",
       "      <td>1</td>\n",
       "      <td>1</td>\n",
       "      <td>2</td>\n",
       "      <td>15</td>\n",
       "      <td>0</td>\n",
       "      <td></td>\n",
       "      <td></td>\n",
       "      <td>1</td>\n",
       "      <td>caught</td>\n",
       "      <td>9</td>\n",
       "    </tr>\n",
       "    <tr>\n",
       "      <th>74</th>\n",
       "      <td>335987</td>\n",
       "      <td>1</td>\n",
       "      <td>13</td>\n",
       "      <td>1</td>\n",
       "      <td>1</td>\n",
       "      <td>2</td>\n",
       "      <td>3</td>\n",
       "      <td>3</td>\n",
       "      <td>2</td>\n",
       "      <td>9</td>\n",
       "      <td>0</td>\n",
       "      <td></td>\n",
       "      <td></td>\n",
       "      <td>3</td>\n",
       "      <td>caught</td>\n",
       "      <td>14</td>\n",
       "    </tr>\n",
       "    <tr>\n",
       "      <th>106</th>\n",
       "      <td>335987</td>\n",
       "      <td>1</td>\n",
       "      <td>18</td>\n",
       "      <td>1</td>\n",
       "      <td>1</td>\n",
       "      <td>2</td>\n",
       "      <td>4</td>\n",
       "      <td>4</td>\n",
       "      <td>2</td>\n",
       "      <td>13</td>\n",
       "      <td>0</td>\n",
       "      <td></td>\n",
       "      <td></td>\n",
       "      <td>4</td>\n",
       "      <td>caught</td>\n",
       "      <td>10</td>\n",
       "    </tr>\n",
       "  </tbody>\n",
       "</table>\n",
       "</div>"
      ],
      "text/plain": [
       "     Match_Id  Innings_Id  Over_Id  Ball_Id  Team_Batting_Id  Team_Bowling_Id  \\\n",
       "33     335987           1        6        2                1                2   \n",
       "74     335987           1       13        1                1                2   \n",
       "106    335987           1       18        1                1                2   \n",
       "\n",
       "     Striker_Id  Striker_Batting_Position  Non_Striker_Id  Bowler_Id  \\\n",
       "33            1                         1               2         15   \n",
       "74            3                         3               2          9   \n",
       "106           4                         4               2         13   \n",
       "\n",
       "    Batsman_Scored Extra_Type Extra_Runs Player_dissimal_Id Dissimal_Type  \\\n",
       "33               0                                        1        caught   \n",
       "74               0                                        3        caught   \n",
       "106              0                                        4        caught   \n",
       "\n",
       "    Fielder_Id  \n",
       "33           9  \n",
       "74          14  \n",
       "106         10  "
      ]
     },
     "execution_count": 195,
     "metadata": {},
     "output_type": "execute_result"
    }
   ],
   "source": [
    "data.head(3)"
   ]
  },
  {
   "cell_type": "code",
   "execution_count": 103,
   "id": "06999af4-aff1-42f7-ad3e-bbaed276b39a",
   "metadata": {},
   "outputs": [
    {
     "data": {
      "text/plain": [
       "Bowler_Id\n",
       "194    120\n",
       "50     107\n",
       "67     101\n",
       "136    100\n",
       "71      98\n",
       "Name: Bowler_Id, dtype: int64"
      ]
     },
     "execution_count": 103,
     "metadata": {},
     "output_type": "execute_result"
    }
   ],
   "source": [
    "data.groupby('Bowler_Id')['Bowler_Id'].count().sort_values(ascending=False).head(5)"
   ]
  },
  {
   "cell_type": "markdown",
   "id": "4b74551d-d32e-476a-8fc2-5ce179cfdee3",
   "metadata": {},
   "source": [
    "### Top 5 Player_id who hit maximum four"
   ]
  },
  {
   "cell_type": "code",
   "execution_count": 104,
   "id": "a42b8ecb-38b5-4343-9792-492247508a82",
   "metadata": {},
   "outputs": [],
   "source": [
    "data1=df[df['Batsman_Scored']=='4']"
   ]
  },
  {
   "cell_type": "code",
   "execution_count": 194,
   "id": "2bd519aa-20c8-485f-b20a-57a357cf9109",
   "metadata": {},
   "outputs": [
    {
     "data": {
      "text/html": [
       "<div>\n",
       "<style scoped>\n",
       "    .dataframe tbody tr th:only-of-type {\n",
       "        vertical-align: middle;\n",
       "    }\n",
       "\n",
       "    .dataframe tbody tr th {\n",
       "        vertical-align: top;\n",
       "    }\n",
       "\n",
       "    .dataframe thead th {\n",
       "        text-align: right;\n",
       "    }\n",
       "</style>\n",
       "<table border=\"1\" class=\"dataframe\">\n",
       "  <thead>\n",
       "    <tr style=\"text-align: right;\">\n",
       "      <th></th>\n",
       "      <th>Match_Id</th>\n",
       "      <th>Innings_Id</th>\n",
       "      <th>Over_Id</th>\n",
       "      <th>Ball_Id</th>\n",
       "      <th>Team_Batting_Id</th>\n",
       "      <th>Team_Bowling_Id</th>\n",
       "      <th>Striker_Id</th>\n",
       "      <th>Striker_Batting_Position</th>\n",
       "      <th>Non_Striker_Id</th>\n",
       "      <th>Bowler_Id</th>\n",
       "      <th>Batsman_Scored</th>\n",
       "      <th>Extra_Type</th>\n",
       "      <th>Extra_Runs</th>\n",
       "      <th>Player_dissimal_Id</th>\n",
       "      <th>Dissimal_Type</th>\n",
       "      <th>Fielder_Id</th>\n",
       "    </tr>\n",
       "  </thead>\n",
       "  <tbody>\n",
       "    <tr>\n",
       "      <th>8</th>\n",
       "      <td>335987</td>\n",
       "      <td>1</td>\n",
       "      <td>2</td>\n",
       "      <td>2</td>\n",
       "      <td>1</td>\n",
       "      <td>2</td>\n",
       "      <td>2</td>\n",
       "      <td>2</td>\n",
       "      <td>1</td>\n",
       "      <td>15</td>\n",
       "      <td>4</td>\n",
       "      <td></td>\n",
       "      <td></td>\n",
       "      <td></td>\n",
       "      <td></td>\n",
       "      <td></td>\n",
       "    </tr>\n",
       "    <tr>\n",
       "      <th>9</th>\n",
       "      <td>335987</td>\n",
       "      <td>1</td>\n",
       "      <td>2</td>\n",
       "      <td>3</td>\n",
       "      <td>1</td>\n",
       "      <td>2</td>\n",
       "      <td>2</td>\n",
       "      <td>2</td>\n",
       "      <td>1</td>\n",
       "      <td>15</td>\n",
       "      <td>4</td>\n",
       "      <td></td>\n",
       "      <td></td>\n",
       "      <td></td>\n",
       "      <td></td>\n",
       "      <td></td>\n",
       "    </tr>\n",
       "    <tr>\n",
       "      <th>11</th>\n",
       "      <td>335987</td>\n",
       "      <td>1</td>\n",
       "      <td>2</td>\n",
       "      <td>5</td>\n",
       "      <td>1</td>\n",
       "      <td>2</td>\n",
       "      <td>2</td>\n",
       "      <td>2</td>\n",
       "      <td>1</td>\n",
       "      <td>15</td>\n",
       "      <td>4</td>\n",
       "      <td></td>\n",
       "      <td></td>\n",
       "      <td></td>\n",
       "      <td></td>\n",
       "      <td></td>\n",
       "    </tr>\n",
       "  </tbody>\n",
       "</table>\n",
       "</div>"
      ],
      "text/plain": [
       "    Match_Id  Innings_Id  Over_Id  Ball_Id  Team_Batting_Id  Team_Bowling_Id  \\\n",
       "8     335987           1        2        2                1                2   \n",
       "9     335987           1        2        3                1                2   \n",
       "11    335987           1        2        5                1                2   \n",
       "\n",
       "    Striker_Id  Striker_Batting_Position  Non_Striker_Id  Bowler_Id  \\\n",
       "8            2                         2               1         15   \n",
       "9            2                         2               1         15   \n",
       "11           2                         2               1         15   \n",
       "\n",
       "   Batsman_Scored Extra_Type Extra_Runs Player_dissimal_Id Dissimal_Type  \\\n",
       "8               4                                                          \n",
       "9               4                                                          \n",
       "11              4                                                          \n",
       "\n",
       "   Fielder_Id  \n",
       "8              \n",
       "9              \n",
       "11             "
      ]
     },
     "execution_count": 194,
     "metadata": {},
     "output_type": "execute_result"
    }
   ],
   "source": [
    "data1.head(3)"
   ]
  },
  {
   "cell_type": "code",
   "execution_count": 105,
   "id": "6f6d745d-6a94-444f-a135-16cbd274a072",
   "metadata": {},
   "outputs": [
    {
     "data": {
      "text/plain": [
       "Striker_Id\n",
       "40    422\n",
       "8     360\n",
       "21    360\n",
       "42    348\n",
       "46    341\n",
       "Name: Striker_Id, dtype: int64"
      ]
     },
     "execution_count": 105,
     "metadata": {},
     "output_type": "execute_result"
    }
   ],
   "source": [
    "max_four=data1.groupby('Striker_Id')['Striker_Id'].count().sort_values(ascending=False).head()\n",
    "max_four"
   ]
  },
  {
   "cell_type": "markdown",
   "id": "e500ac52-c582-40b5-a479-2863e88ef5f9",
   "metadata": {},
   "source": [
    "### Top 5 Player_id who hit maximum six"
   ]
  },
  {
   "cell_type": "code",
   "execution_count": 106,
   "id": "d2bab647-ac6a-4298-bf4a-aacbe30ae9ee",
   "metadata": {},
   "outputs": [],
   "source": [
    "data2=df[df['Batsman_Scored']=='6']"
   ]
  },
  {
   "cell_type": "code",
   "execution_count": 107,
   "id": "480a1d53-ee39-4b90-b5e5-560ea84f7ac2",
   "metadata": {},
   "outputs": [],
   "source": [
    "max_six=data2.groupby('Striker_Id')['Striker_Id'].count().sort_values(ascending=False).head()"
   ]
  },
  {
   "cell_type": "code",
   "execution_count": 108,
   "id": "7b911c9c-bb72-491c-a7e2-e9751eaa64cf",
   "metadata": {},
   "outputs": [
    {
     "data": {
      "text/plain": [
       "Striker_Id\n",
       "162    252\n",
       "57     164\n",
       "21     161\n",
       "8      148\n",
       "31     143\n",
       "Name: Striker_Id, dtype: int64"
      ]
     },
     "execution_count": 108,
     "metadata": {},
     "output_type": "execute_result"
    }
   ],
   "source": [
    "max_six"
   ]
  },
  {
   "cell_type": "markdown",
   "id": "07a30377-8dd3-4bf3-8728-098b4898c7e6",
   "metadata": {},
   "source": [
    "### Top 5 Player_id who scored maximum runs"
   ]
  },
  {
   "cell_type": "code",
   "execution_count": 109,
   "id": "f85a622f-740c-4de0-bbdd-cc2de0a7ef4e",
   "metadata": {},
   "outputs": [
    {
     "data": {
      "text/plain": [
       "array(['0', '4', '6', '1', '2', 'Do_nothing', '5', '3', ' '], dtype=object)"
      ]
     },
     "execution_count": 109,
     "metadata": {},
     "output_type": "execute_result"
    }
   ],
   "source": [
    "df['Batsman_Scored'].unique()"
   ]
  },
  {
   "cell_type": "code",
   "execution_count": 110,
   "id": "d5ef470d-4e28-451d-bfd8-6bfee1938968",
   "metadata": {},
   "outputs": [],
   "source": [
    "data3=df[(df['Batsman_Scored']!='Do_nothing')&(df['Batsman_Scored']!=' ')]"
   ]
  },
  {
   "cell_type": "code",
   "execution_count": 193,
   "id": "cacf841c-1185-47a7-a18b-ada63549e795",
   "metadata": {},
   "outputs": [
    {
     "data": {
      "text/html": [
       "<div>\n",
       "<style scoped>\n",
       "    .dataframe tbody tr th:only-of-type {\n",
       "        vertical-align: middle;\n",
       "    }\n",
       "\n",
       "    .dataframe tbody tr th {\n",
       "        vertical-align: top;\n",
       "    }\n",
       "\n",
       "    .dataframe thead th {\n",
       "        text-align: right;\n",
       "    }\n",
       "</style>\n",
       "<table border=\"1\" class=\"dataframe\">\n",
       "  <thead>\n",
       "    <tr style=\"text-align: right;\">\n",
       "      <th></th>\n",
       "      <th>Match_Id</th>\n",
       "      <th>Innings_Id</th>\n",
       "      <th>Over_Id</th>\n",
       "      <th>Ball_Id</th>\n",
       "      <th>Team_Batting_Id</th>\n",
       "      <th>Team_Bowling_Id</th>\n",
       "      <th>Striker_Id</th>\n",
       "      <th>Striker_Batting_Position</th>\n",
       "      <th>Non_Striker_Id</th>\n",
       "      <th>Bowler_Id</th>\n",
       "      <th>Batsman_Scored</th>\n",
       "      <th>Extra_Type</th>\n",
       "      <th>Extra_Runs</th>\n",
       "      <th>Player_dissimal_Id</th>\n",
       "      <th>Dissimal_Type</th>\n",
       "      <th>Fielder_Id</th>\n",
       "    </tr>\n",
       "  </thead>\n",
       "  <tbody>\n",
       "    <tr>\n",
       "      <th>0</th>\n",
       "      <td>335987</td>\n",
       "      <td>1</td>\n",
       "      <td>1</td>\n",
       "      <td>1</td>\n",
       "      <td>1</td>\n",
       "      <td>2</td>\n",
       "      <td>1</td>\n",
       "      <td>1</td>\n",
       "      <td>2</td>\n",
       "      <td>14</td>\n",
       "      <td>0</td>\n",
       "      <td>legbyes</td>\n",
       "      <td>1</td>\n",
       "      <td></td>\n",
       "      <td></td>\n",
       "      <td></td>\n",
       "    </tr>\n",
       "    <tr>\n",
       "      <th>1</th>\n",
       "      <td>335987</td>\n",
       "      <td>1</td>\n",
       "      <td>1</td>\n",
       "      <td>2</td>\n",
       "      <td>1</td>\n",
       "      <td>2</td>\n",
       "      <td>2</td>\n",
       "      <td>2</td>\n",
       "      <td>1</td>\n",
       "      <td>14</td>\n",
       "      <td>0</td>\n",
       "      <td></td>\n",
       "      <td></td>\n",
       "      <td></td>\n",
       "      <td></td>\n",
       "      <td></td>\n",
       "    </tr>\n",
       "    <tr>\n",
       "      <th>2</th>\n",
       "      <td>335987</td>\n",
       "      <td>1</td>\n",
       "      <td>1</td>\n",
       "      <td>3</td>\n",
       "      <td>1</td>\n",
       "      <td>2</td>\n",
       "      <td>2</td>\n",
       "      <td>2</td>\n",
       "      <td>1</td>\n",
       "      <td>14</td>\n",
       "      <td>0</td>\n",
       "      <td>wides</td>\n",
       "      <td>1</td>\n",
       "      <td></td>\n",
       "      <td></td>\n",
       "      <td></td>\n",
       "    </tr>\n",
       "  </tbody>\n",
       "</table>\n",
       "</div>"
      ],
      "text/plain": [
       "   Match_Id  Innings_Id  Over_Id  Ball_Id  Team_Batting_Id  Team_Bowling_Id  \\\n",
       "0    335987           1        1        1                1                2   \n",
       "1    335987           1        1        2                1                2   \n",
       "2    335987           1        1        3                1                2   \n",
       "\n",
       "   Striker_Id  Striker_Batting_Position  Non_Striker_Id  Bowler_Id  \\\n",
       "0           1                         1               2         14   \n",
       "1           2                         2               1         14   \n",
       "2           2                         2               1         14   \n",
       "\n",
       "   Batsman_Scored Extra_Type Extra_Runs Player_dissimal_Id Dissimal_Type  \\\n",
       "0               0    legbyes          1                                    \n",
       "1               0                                                          \n",
       "2               0      wides          1                                    \n",
       "\n",
       "  Fielder_Id  \n",
       "0             \n",
       "1             \n",
       "2             "
      ]
     },
     "execution_count": 193,
     "metadata": {},
     "output_type": "execute_result"
    }
   ],
   "source": [
    "data3.head(3)"
   ]
  },
  {
   "cell_type": "code",
   "execution_count": 112,
   "id": "db6840e4-4a52-46e5-a55d-eb5cd9a47dfc",
   "metadata": {},
   "outputs": [
    {
     "data": {
      "text/plain": [
       "array(['0', '4', '6', '1', '2', '5', '3'], dtype=object)"
      ]
     },
     "execution_count": 112,
     "metadata": {},
     "output_type": "execute_result"
    }
   ],
   "source": [
    "data3['Batsman_Scored'].unique()"
   ]
  },
  {
   "cell_type": "code",
   "execution_count": 113,
   "id": "e3c0d437-1d36-406a-96e8-47916936e7ec",
   "metadata": {},
   "outputs": [
    {
     "name": "stderr",
     "output_type": "stream",
     "text": [
      "C:\\Users\\91926\\AppData\\Local\\Temp\\ipykernel_32528\\3823168946.py:1: SettingWithCopyWarning: \n",
      "A value is trying to be set on a copy of a slice from a DataFrame.\n",
      "Try using .loc[row_indexer,col_indexer] = value instead\n",
      "\n",
      "See the caveats in the documentation: https://pandas.pydata.org/pandas-docs/stable/user_guide/indexing.html#returning-a-view-versus-a-copy\n",
      "  data3['Batsman_Scored']=pd.to_numeric(data3['Batsman_Scored'])\n"
     ]
    }
   ],
   "source": [
    "data3['Batsman_Scored']=pd.to_numeric(data3['Batsman_Scored'])"
   ]
  },
  {
   "cell_type": "code",
   "execution_count": 114,
   "id": "b560078d-fb8c-4507-98d3-be20f3fce202",
   "metadata": {},
   "outputs": [],
   "source": [
    "max_run=data3.groupby('Striker_Id')['Batsman_Scored'].sum().sort_values(ascending=False).head(5)"
   ]
  },
  {
   "cell_type": "code",
   "execution_count": 115,
   "id": "7285f749-f17d-489c-9297-cc25cdcc3b33",
   "metadata": {},
   "outputs": [
    {
     "data": {
      "text/plain": [
       "Striker_Id\n",
       "21     4106\n",
       "8      4105\n",
       "57     3874\n",
       "40     3634\n",
       "162    3447\n",
       "Name: Batsman_Scored, dtype: int64"
      ]
     },
     "execution_count": 115,
     "metadata": {},
     "output_type": "execute_result"
    }
   ],
   "source": [
    "max_run"
   ]
  },
  {
   "cell_type": "markdown",
   "id": "e28f9f64-5579-4e8e-94ff-d201ca073ced",
   "metadata": {},
   "source": [
    "### Top 5 Player_id who faced maximum balls"
   ]
  },
  {
   "cell_type": "code",
   "execution_count": 116,
   "id": "f8b29ff2-9a53-4330-9480-aca662ca735b",
   "metadata": {},
   "outputs": [
    {
     "data": {
      "text/plain": [
       "array(['legbyes', ' ', 'wides', 'byes', 'noballs', 'penalty'],\n",
       "      dtype=object)"
      ]
     },
     "execution_count": 116,
     "metadata": {},
     "output_type": "execute_result"
    }
   ],
   "source": [
    "df['Extra_Type'].unique()"
   ]
  },
  {
   "cell_type": "code",
   "execution_count": 185,
   "id": "f9036430-4b5d-4bbf-b51a-dd06ca496d92",
   "metadata": {},
   "outputs": [],
   "source": [
    "data4=df[(df['Extra_Type']!='wides')&(df['Extra_Type']!='noballs')]"
   ]
  },
  {
   "cell_type": "code",
   "execution_count": 192,
   "id": "c7b0ca1d-de71-41c1-b0b8-5a3c7d291546",
   "metadata": {},
   "outputs": [
    {
     "data": {
      "text/html": [
       "<div>\n",
       "<style scoped>\n",
       "    .dataframe tbody tr th:only-of-type {\n",
       "        vertical-align: middle;\n",
       "    }\n",
       "\n",
       "    .dataframe tbody tr th {\n",
       "        vertical-align: top;\n",
       "    }\n",
       "\n",
       "    .dataframe thead th {\n",
       "        text-align: right;\n",
       "    }\n",
       "</style>\n",
       "<table border=\"1\" class=\"dataframe\">\n",
       "  <thead>\n",
       "    <tr style=\"text-align: right;\">\n",
       "      <th></th>\n",
       "      <th>Match_Id</th>\n",
       "      <th>Innings_Id</th>\n",
       "      <th>Over_Id</th>\n",
       "      <th>Ball_Id</th>\n",
       "      <th>Team_Batting_Id</th>\n",
       "      <th>Team_Bowling_Id</th>\n",
       "      <th>Striker_Id</th>\n",
       "      <th>Striker_Batting_Position</th>\n",
       "      <th>Non_Striker_Id</th>\n",
       "      <th>Bowler_Id</th>\n",
       "      <th>Batsman_Scored</th>\n",
       "      <th>Extra_Type</th>\n",
       "      <th>Extra_Runs</th>\n",
       "      <th>Player_dissimal_Id</th>\n",
       "      <th>Dissimal_Type</th>\n",
       "      <th>Fielder_Id</th>\n",
       "    </tr>\n",
       "  </thead>\n",
       "  <tbody>\n",
       "    <tr>\n",
       "      <th>0</th>\n",
       "      <td>335987</td>\n",
       "      <td>1</td>\n",
       "      <td>1</td>\n",
       "      <td>1</td>\n",
       "      <td>1</td>\n",
       "      <td>2</td>\n",
       "      <td>1</td>\n",
       "      <td>1</td>\n",
       "      <td>2</td>\n",
       "      <td>14</td>\n",
       "      <td>0</td>\n",
       "      <td>legbyes</td>\n",
       "      <td>1</td>\n",
       "      <td></td>\n",
       "      <td></td>\n",
       "      <td></td>\n",
       "    </tr>\n",
       "    <tr>\n",
       "      <th>1</th>\n",
       "      <td>335987</td>\n",
       "      <td>1</td>\n",
       "      <td>1</td>\n",
       "      <td>2</td>\n",
       "      <td>1</td>\n",
       "      <td>2</td>\n",
       "      <td>2</td>\n",
       "      <td>2</td>\n",
       "      <td>1</td>\n",
       "      <td>14</td>\n",
       "      <td>0</td>\n",
       "      <td></td>\n",
       "      <td></td>\n",
       "      <td></td>\n",
       "      <td></td>\n",
       "      <td></td>\n",
       "    </tr>\n",
       "    <tr>\n",
       "      <th>3</th>\n",
       "      <td>335987</td>\n",
       "      <td>1</td>\n",
       "      <td>1</td>\n",
       "      <td>4</td>\n",
       "      <td>1</td>\n",
       "      <td>2</td>\n",
       "      <td>2</td>\n",
       "      <td>2</td>\n",
       "      <td>1</td>\n",
       "      <td>14</td>\n",
       "      <td>0</td>\n",
       "      <td></td>\n",
       "      <td></td>\n",
       "      <td></td>\n",
       "      <td></td>\n",
       "      <td></td>\n",
       "    </tr>\n",
       "  </tbody>\n",
       "</table>\n",
       "</div>"
      ],
      "text/plain": [
       "   Match_Id  Innings_Id  Over_Id  Ball_Id  Team_Batting_Id  Team_Bowling_Id  \\\n",
       "0    335987           1        1        1                1                2   \n",
       "1    335987           1        1        2                1                2   \n",
       "3    335987           1        1        4                1                2   \n",
       "\n",
       "   Striker_Id  Striker_Batting_Position  Non_Striker_Id  Bowler_Id  \\\n",
       "0           1                         1               2         14   \n",
       "1           2                         2               1         14   \n",
       "3           2                         2               1         14   \n",
       "\n",
       "  Batsman_Scored Extra_Type Extra_Runs Player_dissimal_Id Dissimal_Type  \\\n",
       "0              0    legbyes          1                                    \n",
       "1              0                                                          \n",
       "3              0                                                          \n",
       "\n",
       "  Fielder_Id  \n",
       "0             \n",
       "1             \n",
       "3             "
      ]
     },
     "execution_count": 192,
     "metadata": {},
     "output_type": "execute_result"
    }
   ],
   "source": [
    "data4.head(3)"
   ]
  },
  {
   "cell_type": "code",
   "execution_count": 119,
   "id": "dae3c48e-f5aa-42a3-8db8-712837298b4c",
   "metadata": {},
   "outputs": [
    {
     "data": {
      "text/plain": [
       "array(['legbyes', ' ', 'byes', 'penalty'], dtype=object)"
      ]
     },
     "execution_count": 119,
     "metadata": {},
     "output_type": "execute_result"
    }
   ],
   "source": [
    "data4['Extra_Type'].unique()"
   ]
  },
  {
   "cell_type": "code",
   "execution_count": 120,
   "id": "c4ec6338-81fc-4182-87b3-97d3df4f794d",
   "metadata": {},
   "outputs": [],
   "source": [
    "max_ball_faced=data4.groupby('Striker_Id')['Striker_Id'].count().sort_values(ascending=False).head()"
   ]
  },
  {
   "cell_type": "code",
   "execution_count": 121,
   "id": "9bb1193d-a59e-42d1-b995-bf0bad9eb1c6",
   "metadata": {},
   "outputs": [
    {
     "data": {
      "text/plain": [
       "Striker_Id\n",
       "8     3156\n",
       "21    2955\n",
       "57    2943\n",
       "40    2939\n",
       "46    2640\n",
       "Name: Striker_Id, dtype: int64"
      ]
     },
     "execution_count": 121,
     "metadata": {},
     "output_type": "execute_result"
    }
   ],
   "source": [
    "max_ball_faced"
   ]
  },
  {
   "cell_type": "markdown",
   "id": "37291ba6-89c4-4ee2-855a-1a247e81e3da",
   "metadata": {},
   "source": [
    "### Top 5 Player_id who wasted maximum balls"
   ]
  },
  {
   "cell_type": "code",
   "execution_count": 202,
   "id": "fea27cfa-83c3-40f0-a59b-502cfb07d16a",
   "metadata": {},
   "outputs": [
    {
     "data": {
      "text/plain": [
       "array(['0', '4', '6', '1', '2', 'Do_nothing', '5', '3', ' '], dtype=object)"
      ]
     },
     "execution_count": 202,
     "metadata": {},
     "output_type": "execute_result"
    }
   ],
   "source": [
    "data4['Batsman_Scored'].unique()"
   ]
  },
  {
   "cell_type": "code",
   "execution_count": 122,
   "id": "21ac0e60-4519-47f3-a3a0-4085e1a9a0cd",
   "metadata": {},
   "outputs": [],
   "source": [
    "data5=df[df['Batsman_Scored']=='0']"
   ]
  },
  {
   "cell_type": "code",
   "execution_count": 123,
   "id": "a1c72ba2-1ce3-454e-a16b-c867c643d203",
   "metadata": {},
   "outputs": [
    {
     "data": {
      "text/html": [
       "<div>\n",
       "<style scoped>\n",
       "    .dataframe tbody tr th:only-of-type {\n",
       "        vertical-align: middle;\n",
       "    }\n",
       "\n",
       "    .dataframe tbody tr th {\n",
       "        vertical-align: top;\n",
       "    }\n",
       "\n",
       "    .dataframe thead th {\n",
       "        text-align: right;\n",
       "    }\n",
       "</style>\n",
       "<table border=\"1\" class=\"dataframe\">\n",
       "  <thead>\n",
       "    <tr style=\"text-align: right;\">\n",
       "      <th></th>\n",
       "      <th>Match_Id</th>\n",
       "      <th>Innings_Id</th>\n",
       "      <th>Over_Id</th>\n",
       "      <th>Ball_Id</th>\n",
       "      <th>Team_Batting_Id</th>\n",
       "      <th>Team_Bowling_Id</th>\n",
       "      <th>Striker_Id</th>\n",
       "      <th>Striker_Batting_Position</th>\n",
       "      <th>Non_Striker_Id</th>\n",
       "      <th>Bowler_Id</th>\n",
       "      <th>Batsman_Scored</th>\n",
       "      <th>Extra_Type</th>\n",
       "      <th>Extra_Runs</th>\n",
       "      <th>Player_dissimal_Id</th>\n",
       "      <th>Dissimal_Type</th>\n",
       "      <th>Fielder_Id</th>\n",
       "    </tr>\n",
       "  </thead>\n",
       "  <tbody>\n",
       "    <tr>\n",
       "      <th>0</th>\n",
       "      <td>335987</td>\n",
       "      <td>1</td>\n",
       "      <td>1</td>\n",
       "      <td>1</td>\n",
       "      <td>1</td>\n",
       "      <td>2</td>\n",
       "      <td>1</td>\n",
       "      <td>1</td>\n",
       "      <td>2</td>\n",
       "      <td>14</td>\n",
       "      <td>0</td>\n",
       "      <td>legbyes</td>\n",
       "      <td>1</td>\n",
       "      <td></td>\n",
       "      <td></td>\n",
       "      <td></td>\n",
       "    </tr>\n",
       "    <tr>\n",
       "      <th>1</th>\n",
       "      <td>335987</td>\n",
       "      <td>1</td>\n",
       "      <td>1</td>\n",
       "      <td>2</td>\n",
       "      <td>1</td>\n",
       "      <td>2</td>\n",
       "      <td>2</td>\n",
       "      <td>2</td>\n",
       "      <td>1</td>\n",
       "      <td>14</td>\n",
       "      <td>0</td>\n",
       "      <td></td>\n",
       "      <td></td>\n",
       "      <td></td>\n",
       "      <td></td>\n",
       "      <td></td>\n",
       "    </tr>\n",
       "    <tr>\n",
       "      <th>2</th>\n",
       "      <td>335987</td>\n",
       "      <td>1</td>\n",
       "      <td>1</td>\n",
       "      <td>3</td>\n",
       "      <td>1</td>\n",
       "      <td>2</td>\n",
       "      <td>2</td>\n",
       "      <td>2</td>\n",
       "      <td>1</td>\n",
       "      <td>14</td>\n",
       "      <td>0</td>\n",
       "      <td>wides</td>\n",
       "      <td>1</td>\n",
       "      <td></td>\n",
       "      <td></td>\n",
       "      <td></td>\n",
       "    </tr>\n",
       "    <tr>\n",
       "      <th>3</th>\n",
       "      <td>335987</td>\n",
       "      <td>1</td>\n",
       "      <td>1</td>\n",
       "      <td>4</td>\n",
       "      <td>1</td>\n",
       "      <td>2</td>\n",
       "      <td>2</td>\n",
       "      <td>2</td>\n",
       "      <td>1</td>\n",
       "      <td>14</td>\n",
       "      <td>0</td>\n",
       "      <td></td>\n",
       "      <td></td>\n",
       "      <td></td>\n",
       "      <td></td>\n",
       "      <td></td>\n",
       "    </tr>\n",
       "    <tr>\n",
       "      <th>4</th>\n",
       "      <td>335987</td>\n",
       "      <td>1</td>\n",
       "      <td>1</td>\n",
       "      <td>5</td>\n",
       "      <td>1</td>\n",
       "      <td>2</td>\n",
       "      <td>2</td>\n",
       "      <td>2</td>\n",
       "      <td>1</td>\n",
       "      <td>14</td>\n",
       "      <td>0</td>\n",
       "      <td></td>\n",
       "      <td></td>\n",
       "      <td></td>\n",
       "      <td></td>\n",
       "      <td></td>\n",
       "    </tr>\n",
       "  </tbody>\n",
       "</table>\n",
       "</div>"
      ],
      "text/plain": [
       "   Match_Id  Innings_Id  Over_Id  Ball_Id  Team_Batting_Id  Team_Bowling_Id  \\\n",
       "0    335987           1        1        1                1                2   \n",
       "1    335987           1        1        2                1                2   \n",
       "2    335987           1        1        3                1                2   \n",
       "3    335987           1        1        4                1                2   \n",
       "4    335987           1        1        5                1                2   \n",
       "\n",
       "   Striker_Id  Striker_Batting_Position  Non_Striker_Id  Bowler_Id  \\\n",
       "0           1                         1               2         14   \n",
       "1           2                         2               1         14   \n",
       "2           2                         2               1         14   \n",
       "3           2                         2               1         14   \n",
       "4           2                         2               1         14   \n",
       "\n",
       "  Batsman_Scored Extra_Type Extra_Runs Player_dissimal_Id Dissimal_Type  \\\n",
       "0              0    legbyes          1                                    \n",
       "1              0                                                          \n",
       "2              0      wides          1                                    \n",
       "3              0                                                          \n",
       "4              0                                                          \n",
       "\n",
       "  Fielder_Id  \n",
       "0             \n",
       "1             \n",
       "2             \n",
       "3             \n",
       "4             "
      ]
     },
     "execution_count": 123,
     "metadata": {},
     "output_type": "execute_result"
    }
   ],
   "source": [
    "data5.head(5)"
   ]
  },
  {
   "cell_type": "code",
   "execution_count": 124,
   "id": "5989f1ba-e733-407a-b0b8-5cf8e8cd6802",
   "metadata": {},
   "outputs": [],
   "source": [
    "wasted_max_balls=data5.groupby('Striker_Id')['Striker_Id'].count().sort_values(ascending=False).head(5)"
   ]
  },
  {
   "cell_type": "code",
   "execution_count": 125,
   "id": "75151955-57c3-453e-afa4-5b079ef02bb5",
   "metadata": {},
   "outputs": [
    {
     "data": {
      "text/plain": [
       "Striker_Id\n",
       "8      1191\n",
       "40     1166\n",
       "46     1089\n",
       "162    1088\n",
       "57     1081\n",
       "Name: Striker_Id, dtype: int64"
      ]
     },
     "execution_count": 125,
     "metadata": {},
     "output_type": "execute_result"
    }
   ],
   "source": [
    "wasted_max_balls"
   ]
  },
  {
   "cell_type": "code",
   "execution_count": 126,
   "id": "1d73c45e-be3b-4002-bd4e-c506ede85640",
   "metadata": {},
   "outputs": [],
   "source": [
    "df1=pd.read_csv(r'C:\\Users\\91926\\Downloads\\Player - Player.csv')"
   ]
  },
  {
   "cell_type": "code",
   "execution_count": 127,
   "id": "8c41e671-975d-4a7a-a4c5-06062568f874",
   "metadata": {},
   "outputs": [
    {
     "data": {
      "text/html": [
       "<div>\n",
       "<style scoped>\n",
       "    .dataframe tbody tr th:only-of-type {\n",
       "        vertical-align: middle;\n",
       "    }\n",
       "\n",
       "    .dataframe tbody tr th {\n",
       "        vertical-align: top;\n",
       "    }\n",
       "\n",
       "    .dataframe thead th {\n",
       "        text-align: right;\n",
       "    }\n",
       "</style>\n",
       "<table border=\"1\" class=\"dataframe\">\n",
       "  <thead>\n",
       "    <tr style=\"text-align: right;\">\n",
       "      <th></th>\n",
       "      <th>Player_Id</th>\n",
       "      <th>Player_Name</th>\n",
       "      <th>DOB</th>\n",
       "      <th>Batting_Hand</th>\n",
       "      <th>Bowling_Skill</th>\n",
       "      <th>Country</th>\n",
       "      <th>Is_Umpire</th>\n",
       "      <th>Unnamed: 7</th>\n",
       "    </tr>\n",
       "  </thead>\n",
       "  <tbody>\n",
       "    <tr>\n",
       "      <th>0</th>\n",
       "      <td>1</td>\n",
       "      <td>SC Ganguly</td>\n",
       "      <td>08-Jul-72</td>\n",
       "      <td>Left_Hand</td>\n",
       "      <td>Right-arm medium</td>\n",
       "      <td>India</td>\n",
       "      <td>0</td>\n",
       "      <td>NaN</td>\n",
       "    </tr>\n",
       "    <tr>\n",
       "      <th>1</th>\n",
       "      <td>2</td>\n",
       "      <td>BB McCullum</td>\n",
       "      <td>27-Sep-81</td>\n",
       "      <td>Right_Hand</td>\n",
       "      <td>Right-arm medium</td>\n",
       "      <td>New Zealand</td>\n",
       "      <td>0</td>\n",
       "      <td>NaN</td>\n",
       "    </tr>\n",
       "    <tr>\n",
       "      <th>2</th>\n",
       "      <td>3</td>\n",
       "      <td>RT Ponting</td>\n",
       "      <td>19-Dec-74</td>\n",
       "      <td>Right_Hand</td>\n",
       "      <td>Right-arm medium</td>\n",
       "      <td>Australia</td>\n",
       "      <td>0</td>\n",
       "      <td>NaN</td>\n",
       "    </tr>\n",
       "    <tr>\n",
       "      <th>3</th>\n",
       "      <td>4</td>\n",
       "      <td>DJ Hussey</td>\n",
       "      <td>15-Jul-77</td>\n",
       "      <td>Right_Hand</td>\n",
       "      <td>Right-arm offbreak</td>\n",
       "      <td>Australia</td>\n",
       "      <td>0</td>\n",
       "      <td>NaN</td>\n",
       "    </tr>\n",
       "    <tr>\n",
       "      <th>4</th>\n",
       "      <td>5</td>\n",
       "      <td>Mohammad Hafeez</td>\n",
       "      <td>17-Oct-80</td>\n",
       "      <td>Right_Hand</td>\n",
       "      <td>Right-arm offbreak</td>\n",
       "      <td>Pakistan</td>\n",
       "      <td>0</td>\n",
       "      <td>NaN</td>\n",
       "    </tr>\n",
       "  </tbody>\n",
       "</table>\n",
       "</div>"
      ],
      "text/plain": [
       "   Player_Id      Player_Name        DOB Batting_Hand       Bowling_Skill  \\\n",
       "0          1       SC Ganguly  08-Jul-72    Left_Hand    Right-arm medium   \n",
       "1          2      BB McCullum  27-Sep-81   Right_Hand    Right-arm medium   \n",
       "2          3       RT Ponting  19-Dec-74   Right_Hand    Right-arm medium   \n",
       "3          4        DJ Hussey  15-Jul-77   Right_Hand  Right-arm offbreak   \n",
       "4          5  Mohammad Hafeez  17-Oct-80   Right_Hand  Right-arm offbreak   \n",
       "\n",
       "       Country  Is_Umpire  Unnamed: 7  \n",
       "0        India          0         NaN  \n",
       "1  New Zealand          0         NaN  \n",
       "2    Australia          0         NaN  \n",
       "3    Australia          0         NaN  \n",
       "4     Pakistan          0         NaN  "
      ]
     },
     "execution_count": 127,
     "metadata": {},
     "output_type": "execute_result"
    }
   ],
   "source": [
    "df1.head()"
   ]
  },
  {
   "cell_type": "code",
   "execution_count": 130,
   "id": "f4648611-450a-4ab3-93a0-98179862db74",
   "metadata": {},
   "outputs": [],
   "source": [
    "bowler_id_change=df.rename(columns={'Bowler_Id':'Player_Id'})"
   ]
  },
  {
   "cell_type": "code",
   "execution_count": 191,
   "id": "3d18461e-1bb7-4b0e-b38e-3068bddf6efa",
   "metadata": {},
   "outputs": [
    {
     "data": {
      "text/html": [
       "<div>\n",
       "<style scoped>\n",
       "    .dataframe tbody tr th:only-of-type {\n",
       "        vertical-align: middle;\n",
       "    }\n",
       "\n",
       "    .dataframe tbody tr th {\n",
       "        vertical-align: top;\n",
       "    }\n",
       "\n",
       "    .dataframe thead th {\n",
       "        text-align: right;\n",
       "    }\n",
       "</style>\n",
       "<table border=\"1\" class=\"dataframe\">\n",
       "  <thead>\n",
       "    <tr style=\"text-align: right;\">\n",
       "      <th></th>\n",
       "      <th>Match_Id</th>\n",
       "      <th>Innings_Id</th>\n",
       "      <th>Over_Id</th>\n",
       "      <th>Ball_Id</th>\n",
       "      <th>Team_Batting_Id</th>\n",
       "      <th>Team_Bowling_Id</th>\n",
       "      <th>Striker_Id</th>\n",
       "      <th>Striker_Batting_Position</th>\n",
       "      <th>Non_Striker_Id</th>\n",
       "      <th>Player_Id</th>\n",
       "      <th>Batsman_Scored</th>\n",
       "      <th>Extra_Type</th>\n",
       "      <th>Extra_Runs</th>\n",
       "      <th>Player_dissimal_Id</th>\n",
       "      <th>Dissimal_Type</th>\n",
       "      <th>Fielder_Id</th>\n",
       "    </tr>\n",
       "  </thead>\n",
       "  <tbody>\n",
       "    <tr>\n",
       "      <th>0</th>\n",
       "      <td>335987</td>\n",
       "      <td>1</td>\n",
       "      <td>1</td>\n",
       "      <td>1</td>\n",
       "      <td>1</td>\n",
       "      <td>2</td>\n",
       "      <td>1</td>\n",
       "      <td>1</td>\n",
       "      <td>2</td>\n",
       "      <td>14</td>\n",
       "      <td>0</td>\n",
       "      <td>legbyes</td>\n",
       "      <td>1</td>\n",
       "      <td></td>\n",
       "      <td></td>\n",
       "      <td></td>\n",
       "    </tr>\n",
       "    <tr>\n",
       "      <th>1</th>\n",
       "      <td>335987</td>\n",
       "      <td>1</td>\n",
       "      <td>1</td>\n",
       "      <td>2</td>\n",
       "      <td>1</td>\n",
       "      <td>2</td>\n",
       "      <td>2</td>\n",
       "      <td>2</td>\n",
       "      <td>1</td>\n",
       "      <td>14</td>\n",
       "      <td>0</td>\n",
       "      <td></td>\n",
       "      <td></td>\n",
       "      <td></td>\n",
       "      <td></td>\n",
       "      <td></td>\n",
       "    </tr>\n",
       "  </tbody>\n",
       "</table>\n",
       "</div>"
      ],
      "text/plain": [
       "   Match_Id  Innings_Id  Over_Id  Ball_Id  Team_Batting_Id  Team_Bowling_Id  \\\n",
       "0    335987           1        1        1                1                2   \n",
       "1    335987           1        1        2                1                2   \n",
       "\n",
       "   Striker_Id  Striker_Batting_Position  Non_Striker_Id  Player_Id  \\\n",
       "0           1                         1               2         14   \n",
       "1           2                         2               1         14   \n",
       "\n",
       "  Batsman_Scored Extra_Type Extra_Runs Player_dissimal_Id Dissimal_Type  \\\n",
       "0              0    legbyes          1                                    \n",
       "1              0                                                          \n",
       "\n",
       "  Fielder_Id  \n",
       "0             \n",
       "1             "
      ]
     },
     "execution_count": 191,
     "metadata": {},
     "output_type": "execute_result"
    }
   ],
   "source": [
    "bowler_id_change.head(2)"
   ]
  },
  {
   "cell_type": "code",
   "execution_count": 132,
   "id": "026d71a3-5252-4150-9ba1-200b21607262",
   "metadata": {},
   "outputs": [],
   "source": [
    "merged_data=pd.merge(bowler_id_change,df1,on='Player_Id')"
   ]
  },
  {
   "cell_type": "code",
   "execution_count": 190,
   "id": "2a5332ff-ef60-4631-8c9b-564204908440",
   "metadata": {},
   "outputs": [
    {
     "data": {
      "text/html": [
       "<div>\n",
       "<style scoped>\n",
       "    .dataframe tbody tr th:only-of-type {\n",
       "        vertical-align: middle;\n",
       "    }\n",
       "\n",
       "    .dataframe tbody tr th {\n",
       "        vertical-align: top;\n",
       "    }\n",
       "\n",
       "    .dataframe thead th {\n",
       "        text-align: right;\n",
       "    }\n",
       "</style>\n",
       "<table border=\"1\" class=\"dataframe\">\n",
       "  <thead>\n",
       "    <tr style=\"text-align: right;\">\n",
       "      <th></th>\n",
       "      <th>Match_Id</th>\n",
       "      <th>Innings_Id</th>\n",
       "      <th>Over_Id</th>\n",
       "      <th>Ball_Id</th>\n",
       "      <th>Team_Batting_Id</th>\n",
       "      <th>Team_Bowling_Id</th>\n",
       "      <th>Player_Id</th>\n",
       "      <th>Striker_Batting_Position</th>\n",
       "      <th>Non_Striker_Id</th>\n",
       "      <th>Bowler_Id</th>\n",
       "      <th>...</th>\n",
       "      <th>Player_dissimal_Id</th>\n",
       "      <th>Dissimal_Type</th>\n",
       "      <th>Fielder_Id</th>\n",
       "      <th>Player_Name</th>\n",
       "      <th>DOB</th>\n",
       "      <th>Batting_Hand</th>\n",
       "      <th>Bowling_Skill</th>\n",
       "      <th>Country</th>\n",
       "      <th>Is_Umpire</th>\n",
       "      <th>Unnamed: 7</th>\n",
       "    </tr>\n",
       "  </thead>\n",
       "  <tbody>\n",
       "    <tr>\n",
       "      <th>0</th>\n",
       "      <td>335987</td>\n",
       "      <td>1</td>\n",
       "      <td>1</td>\n",
       "      <td>1</td>\n",
       "      <td>1</td>\n",
       "      <td>2</td>\n",
       "      <td>1</td>\n",
       "      <td>1</td>\n",
       "      <td>2</td>\n",
       "      <td>14</td>\n",
       "      <td>...</td>\n",
       "      <td></td>\n",
       "      <td></td>\n",
       "      <td></td>\n",
       "      <td>SC Ganguly</td>\n",
       "      <td>08-Jul-72</td>\n",
       "      <td>Left_Hand</td>\n",
       "      <td>Right-arm medium</td>\n",
       "      <td>India</td>\n",
       "      <td>0</td>\n",
       "      <td>NaN</td>\n",
       "    </tr>\n",
       "    <tr>\n",
       "      <th>1</th>\n",
       "      <td>335987</td>\n",
       "      <td>1</td>\n",
       "      <td>1</td>\n",
       "      <td>2</td>\n",
       "      <td>1</td>\n",
       "      <td>2</td>\n",
       "      <td>2</td>\n",
       "      <td>2</td>\n",
       "      <td>1</td>\n",
       "      <td>14</td>\n",
       "      <td>...</td>\n",
       "      <td></td>\n",
       "      <td></td>\n",
       "      <td></td>\n",
       "      <td>BB McCullum</td>\n",
       "      <td>27-Sep-81</td>\n",
       "      <td>Right_Hand</td>\n",
       "      <td>Right-arm medium</td>\n",
       "      <td>New Zealand</td>\n",
       "      <td>0</td>\n",
       "      <td>NaN</td>\n",
       "    </tr>\n",
       "  </tbody>\n",
       "</table>\n",
       "<p>2 rows × 23 columns</p>\n",
       "</div>"
      ],
      "text/plain": [
       "   Match_Id  Innings_Id  Over_Id  Ball_Id  Team_Batting_Id  Team_Bowling_Id  \\\n",
       "0    335987           1        1        1                1                2   \n",
       "1    335987           1        1        2                1                2   \n",
       "\n",
       "   Player_Id  Striker_Batting_Position  Non_Striker_Id  Bowler_Id  ...  \\\n",
       "0          1                         1               2         14  ...   \n",
       "1          2                         2               1         14  ...   \n",
       "\n",
       "  Player_dissimal_Id Dissimal_Type Fielder_Id  Player_Name        DOB  \\\n",
       "0                                               SC Ganguly  08-Jul-72   \n",
       "1                                              BB McCullum  27-Sep-81   \n",
       "\n",
       "  Batting_Hand     Bowling_Skill      Country Is_Umpire Unnamed: 7  \n",
       "0    Left_Hand  Right-arm medium        India         0        NaN  \n",
       "1   Right_Hand  Right-arm medium  New Zealand         0        NaN  \n",
       "\n",
       "[2 rows x 23 columns]"
      ]
     },
     "execution_count": 190,
     "metadata": {},
     "output_type": "execute_result"
    }
   ],
   "source": [
    "merged_data.head(2)"
   ]
  },
  {
   "cell_type": "code",
   "execution_count": 134,
   "id": "2b5b057a-d440-4973-a393-f361e67280ac",
   "metadata": {},
   "outputs": [
    {
     "data": {
      "text/plain": [
       "array([' ', 'caught', 'bowled', 'run out', 'lbw', 'retired hurt',\n",
       "       'stumped', 'caught and bowled', 'hit wicket',\n",
       "       'obstructing the field'], dtype=object)"
      ]
     },
     "execution_count": 134,
     "metadata": {},
     "output_type": "execute_result"
    }
   ],
   "source": [
    "merged_data['Dissimal_Type'].unique()"
   ]
  },
  {
   "cell_type": "markdown",
   "id": "ecedcf71-9eeb-4c00-9784-b54e4460ace7",
   "metadata": {},
   "source": [
    "## 2nd part of assignment"
   ]
  },
  {
   "cell_type": "markdown",
   "id": "8be9eeaa-d3e3-4da8-85f7-2a81c1cf30f0",
   "metadata": {},
   "source": [
    "### Top 5 players name taken maximum wickets"
   ]
  },
  {
   "cell_type": "code",
   "execution_count": 137,
   "id": "3cfab621-32da-4c80-a520-718d539524b1",
   "metadata": {},
   "outputs": [],
   "source": [
    "max_wicket_merged_data=merged_data[(merged_data['Dissimal_Type']!=' ')&(merged_data['Dissimal_Type']!='run out')&(merged_data['Dissimal_Type']!='retired hurt')]"
   ]
  },
  {
   "cell_type": "code",
   "execution_count": 138,
   "id": "dbc276d2-c6b8-44ac-90ea-8abc7f1d6c03",
   "metadata": {},
   "outputs": [
    {
     "data": {
      "text/plain": [
       "array(['caught', 'bowled', 'lbw', 'stumped', 'caught and bowled',\n",
       "       'hit wicket', 'obstructing the field'], dtype=object)"
      ]
     },
     "execution_count": 138,
     "metadata": {},
     "output_type": "execute_result"
    }
   ],
   "source": [
    "max_wicket_merged_data['Dissimal_Type'].unique()"
   ]
  },
  {
   "cell_type": "code",
   "execution_count": 155,
   "id": "e45971b9-f85b-46e0-ba14-7dcde7e13e21",
   "metadata": {},
   "outputs": [],
   "source": [
    "max_wicket=max_wicket_merged_data.groupby(['Player_Name','Player_Id'])['Player_Name'].count().sort_values(ascending=False).head(5)"
   ]
  },
  {
   "cell_type": "code",
   "execution_count": 156,
   "id": "585b1e2f-ad3c-48ca-8c47-992d32280cdc",
   "metadata": {},
   "outputs": [
    {
     "data": {
      "text/plain": [
       "Player_Name      Player_Id\n",
       "SL Malinga       194          120\n",
       "Harbhajan Singh  50           107\n",
       "PP Chawla        67           101\n",
       "A Mishra         136          100\n",
       "DJ Bravo         71            98\n",
       "Name: Player_Name, dtype: int64"
      ]
     },
     "execution_count": 156,
     "metadata": {},
     "output_type": "execute_result"
    }
   ],
   "source": [
    "max_wicket"
   ]
  },
  {
   "cell_type": "markdown",
   "id": "4253a233-6cc9-4f0c-8bfc-9c83b3e203f4",
   "metadata": {},
   "source": [
    "### Player names who hit maximum fours"
   ]
  },
  {
   "cell_type": "code",
   "execution_count": 189,
   "id": "16298152-09a1-410c-909e-ff05b02182e1",
   "metadata": {},
   "outputs": [
    {
     "data": {
      "text/html": [
       "<div>\n",
       "<style scoped>\n",
       "    .dataframe tbody tr th:only-of-type {\n",
       "        vertical-align: middle;\n",
       "    }\n",
       "\n",
       "    .dataframe tbody tr th {\n",
       "        vertical-align: top;\n",
       "    }\n",
       "\n",
       "    .dataframe thead th {\n",
       "        text-align: right;\n",
       "    }\n",
       "</style>\n",
       "<table border=\"1\" class=\"dataframe\">\n",
       "  <thead>\n",
       "    <tr style=\"text-align: right;\">\n",
       "      <th></th>\n",
       "      <th>Match_Id</th>\n",
       "      <th>Innings_Id</th>\n",
       "      <th>Over_Id</th>\n",
       "      <th>Ball_Id</th>\n",
       "      <th>Team_Batting_Id</th>\n",
       "      <th>Team_Bowling_Id</th>\n",
       "      <th>Striker_Id</th>\n",
       "      <th>Striker_Batting_Position</th>\n",
       "      <th>Non_Striker_Id</th>\n",
       "      <th>Bowler_Id</th>\n",
       "      <th>Batsman_Scored</th>\n",
       "      <th>Extra_Type</th>\n",
       "      <th>Extra_Runs</th>\n",
       "      <th>Player_dissimal_Id</th>\n",
       "      <th>Dissimal_Type</th>\n",
       "      <th>Fielder_Id</th>\n",
       "    </tr>\n",
       "  </thead>\n",
       "  <tbody>\n",
       "    <tr>\n",
       "      <th>0</th>\n",
       "      <td>335987</td>\n",
       "      <td>1</td>\n",
       "      <td>1</td>\n",
       "      <td>1</td>\n",
       "      <td>1</td>\n",
       "      <td>2</td>\n",
       "      <td>1</td>\n",
       "      <td>1</td>\n",
       "      <td>2</td>\n",
       "      <td>14</td>\n",
       "      <td>0</td>\n",
       "      <td>legbyes</td>\n",
       "      <td>1</td>\n",
       "      <td></td>\n",
       "      <td></td>\n",
       "      <td></td>\n",
       "    </tr>\n",
       "    <tr>\n",
       "      <th>1</th>\n",
       "      <td>335987</td>\n",
       "      <td>1</td>\n",
       "      <td>1</td>\n",
       "      <td>2</td>\n",
       "      <td>1</td>\n",
       "      <td>2</td>\n",
       "      <td>2</td>\n",
       "      <td>2</td>\n",
       "      <td>1</td>\n",
       "      <td>14</td>\n",
       "      <td>0</td>\n",
       "      <td></td>\n",
       "      <td></td>\n",
       "      <td></td>\n",
       "      <td></td>\n",
       "      <td></td>\n",
       "    </tr>\n",
       "  </tbody>\n",
       "</table>\n",
       "</div>"
      ],
      "text/plain": [
       "   Match_Id  Innings_Id  Over_Id  Ball_Id  Team_Batting_Id  Team_Bowling_Id  \\\n",
       "0    335987           1        1        1                1                2   \n",
       "1    335987           1        1        2                1                2   \n",
       "\n",
       "   Striker_Id  Striker_Batting_Position  Non_Striker_Id  Bowler_Id  \\\n",
       "0           1                         1               2         14   \n",
       "1           2                         2               1         14   \n",
       "\n",
       "  Batsman_Scored Extra_Type Extra_Runs Player_dissimal_Id Dissimal_Type  \\\n",
       "0              0    legbyes          1                                    \n",
       "1              0                                                          \n",
       "\n",
       "  Fielder_Id  \n",
       "0             \n",
       "1             "
      ]
     },
     "execution_count": 189,
     "metadata": {},
     "output_type": "execute_result"
    }
   ],
   "source": [
    "df.head(2)"
   ]
  },
  {
   "cell_type": "code",
   "execution_count": 162,
   "id": "47787d92-10ed-4e59-848f-c6071648721a",
   "metadata": {},
   "outputs": [],
   "source": [
    "max=df.rename(columns={'Striker_Id':'Player_Id'})"
   ]
  },
  {
   "cell_type": "code",
   "execution_count": 163,
   "id": "6b90bda6-baa2-4d77-bb20-d04db24a64f8",
   "metadata": {},
   "outputs": [],
   "source": [
    "merged_data=pd.merge(max,df1,on='Player_Id')"
   ]
  },
  {
   "cell_type": "code",
   "execution_count": 188,
   "id": "a5176e3d-a036-4c6c-8218-61969e5ad61c",
   "metadata": {},
   "outputs": [
    {
     "data": {
      "text/html": [
       "<div>\n",
       "<style scoped>\n",
       "    .dataframe tbody tr th:only-of-type {\n",
       "        vertical-align: middle;\n",
       "    }\n",
       "\n",
       "    .dataframe tbody tr th {\n",
       "        vertical-align: top;\n",
       "    }\n",
       "\n",
       "    .dataframe thead th {\n",
       "        text-align: right;\n",
       "    }\n",
       "</style>\n",
       "<table border=\"1\" class=\"dataframe\">\n",
       "  <thead>\n",
       "    <tr style=\"text-align: right;\">\n",
       "      <th></th>\n",
       "      <th>Match_Id</th>\n",
       "      <th>Innings_Id</th>\n",
       "      <th>Over_Id</th>\n",
       "      <th>Ball_Id</th>\n",
       "      <th>Team_Batting_Id</th>\n",
       "      <th>Team_Bowling_Id</th>\n",
       "      <th>Player_Id</th>\n",
       "      <th>Striker_Batting_Position</th>\n",
       "      <th>Non_Striker_Id</th>\n",
       "      <th>Bowler_Id</th>\n",
       "      <th>...</th>\n",
       "      <th>Player_dissimal_Id</th>\n",
       "      <th>Dissimal_Type</th>\n",
       "      <th>Fielder_Id</th>\n",
       "      <th>Player_Name</th>\n",
       "      <th>DOB</th>\n",
       "      <th>Batting_Hand</th>\n",
       "      <th>Bowling_Skill</th>\n",
       "      <th>Country</th>\n",
       "      <th>Is_Umpire</th>\n",
       "      <th>Unnamed: 7</th>\n",
       "    </tr>\n",
       "  </thead>\n",
       "  <tbody>\n",
       "    <tr>\n",
       "      <th>0</th>\n",
       "      <td>335987</td>\n",
       "      <td>1</td>\n",
       "      <td>1</td>\n",
       "      <td>1</td>\n",
       "      <td>1</td>\n",
       "      <td>2</td>\n",
       "      <td>1</td>\n",
       "      <td>1</td>\n",
       "      <td>2</td>\n",
       "      <td>14</td>\n",
       "      <td>...</td>\n",
       "      <td></td>\n",
       "      <td></td>\n",
       "      <td></td>\n",
       "      <td>SC Ganguly</td>\n",
       "      <td>08-Jul-72</td>\n",
       "      <td>Left_Hand</td>\n",
       "      <td>Right-arm medium</td>\n",
       "      <td>India</td>\n",
       "      <td>0</td>\n",
       "      <td>NaN</td>\n",
       "    </tr>\n",
       "    <tr>\n",
       "      <th>1</th>\n",
       "      <td>335987</td>\n",
       "      <td>1</td>\n",
       "      <td>1</td>\n",
       "      <td>2</td>\n",
       "      <td>1</td>\n",
       "      <td>2</td>\n",
       "      <td>2</td>\n",
       "      <td>2</td>\n",
       "      <td>1</td>\n",
       "      <td>14</td>\n",
       "      <td>...</td>\n",
       "      <td></td>\n",
       "      <td></td>\n",
       "      <td></td>\n",
       "      <td>BB McCullum</td>\n",
       "      <td>27-Sep-81</td>\n",
       "      <td>Right_Hand</td>\n",
       "      <td>Right-arm medium</td>\n",
       "      <td>New Zealand</td>\n",
       "      <td>0</td>\n",
       "      <td>NaN</td>\n",
       "    </tr>\n",
       "  </tbody>\n",
       "</table>\n",
       "<p>2 rows × 23 columns</p>\n",
       "</div>"
      ],
      "text/plain": [
       "   Match_Id  Innings_Id  Over_Id  Ball_Id  Team_Batting_Id  Team_Bowling_Id  \\\n",
       "0    335987           1        1        1                1                2   \n",
       "1    335987           1        1        2                1                2   \n",
       "\n",
       "   Player_Id  Striker_Batting_Position  Non_Striker_Id  Bowler_Id  ...  \\\n",
       "0          1                         1               2         14  ...   \n",
       "1          2                         2               1         14  ...   \n",
       "\n",
       "  Player_dissimal_Id Dissimal_Type Fielder_Id  Player_Name        DOB  \\\n",
       "0                                               SC Ganguly  08-Jul-72   \n",
       "1                                              BB McCullum  27-Sep-81   \n",
       "\n",
       "  Batting_Hand     Bowling_Skill      Country Is_Umpire Unnamed: 7  \n",
       "0    Left_Hand  Right-arm medium        India         0        NaN  \n",
       "1   Right_Hand  Right-arm medium  New Zealand         0        NaN  \n",
       "\n",
       "[2 rows x 23 columns]"
      ]
     },
     "execution_count": 188,
     "metadata": {},
     "output_type": "execute_result"
    }
   ],
   "source": [
    "merged_data.head(2)"
   ]
  },
  {
   "cell_type": "code",
   "execution_count": 166,
   "id": "849f4039-4409-452f-9807-7322013bc1c6",
   "metadata": {},
   "outputs": [],
   "source": [
    "hit_four=merged_data[merged_data['Batsman_Scored']=='4']"
   ]
  },
  {
   "cell_type": "code",
   "execution_count": 169,
   "id": "d721ed37-1718-48ee-8fdf-0ef3e9f7f60e",
   "metadata": {},
   "outputs": [],
   "source": [
    "max_four_player=hit_four.groupby(['Player_Id','Player_Name'])['Player_Name'].count().sort_values(ascending=False).head()"
   ]
  },
  {
   "cell_type": "code",
   "execution_count": 170,
   "id": "29413903-bde8-4978-b2f7-21a8ed3dbecd",
   "metadata": {},
   "outputs": [
    {
     "data": {
      "text/plain": [
       "Player_Id  Player_Name\n",
       "40         G Gambhir      422\n",
       "8          V Kohli        360\n",
       "21         SK Raina       360\n",
       "42         S Dhawan       348\n",
       "46         RV Uthappa     341\n",
       "Name: Player_Name, dtype: int64"
      ]
     },
     "execution_count": 170,
     "metadata": {},
     "output_type": "execute_result"
    }
   ],
   "source": [
    "max_four_player"
   ]
  },
  {
   "cell_type": "markdown",
   "id": "c71f4277-38c9-476b-84d4-98d1e1c0a168",
   "metadata": {},
   "source": [
    "### Players who hit maximum sixes"
   ]
  },
  {
   "cell_type": "code",
   "execution_count": 187,
   "id": "ac7d00df-e7aa-4ea9-901f-01ab38264a73",
   "metadata": {},
   "outputs": [
    {
     "data": {
      "text/html": [
       "<div>\n",
       "<style scoped>\n",
       "    .dataframe tbody tr th:only-of-type {\n",
       "        vertical-align: middle;\n",
       "    }\n",
       "\n",
       "    .dataframe tbody tr th {\n",
       "        vertical-align: top;\n",
       "    }\n",
       "\n",
       "    .dataframe thead th {\n",
       "        text-align: right;\n",
       "    }\n",
       "</style>\n",
       "<table border=\"1\" class=\"dataframe\">\n",
       "  <thead>\n",
       "    <tr style=\"text-align: right;\">\n",
       "      <th></th>\n",
       "      <th>Match_Id</th>\n",
       "      <th>Innings_Id</th>\n",
       "      <th>Over_Id</th>\n",
       "      <th>Ball_Id</th>\n",
       "      <th>Team_Batting_Id</th>\n",
       "      <th>Team_Bowling_Id</th>\n",
       "      <th>Player_Id</th>\n",
       "      <th>Striker_Batting_Position</th>\n",
       "      <th>Non_Striker_Id</th>\n",
       "      <th>Bowler_Id</th>\n",
       "      <th>...</th>\n",
       "      <th>Player_dissimal_Id</th>\n",
       "      <th>Dissimal_Type</th>\n",
       "      <th>Fielder_Id</th>\n",
       "      <th>Player_Name</th>\n",
       "      <th>DOB</th>\n",
       "      <th>Batting_Hand</th>\n",
       "      <th>Bowling_Skill</th>\n",
       "      <th>Country</th>\n",
       "      <th>Is_Umpire</th>\n",
       "      <th>Unnamed: 7</th>\n",
       "    </tr>\n",
       "  </thead>\n",
       "  <tbody>\n",
       "    <tr>\n",
       "      <th>0</th>\n",
       "      <td>335987</td>\n",
       "      <td>1</td>\n",
       "      <td>1</td>\n",
       "      <td>1</td>\n",
       "      <td>1</td>\n",
       "      <td>2</td>\n",
       "      <td>1</td>\n",
       "      <td>1</td>\n",
       "      <td>2</td>\n",
       "      <td>14</td>\n",
       "      <td>...</td>\n",
       "      <td></td>\n",
       "      <td></td>\n",
       "      <td></td>\n",
       "      <td>SC Ganguly</td>\n",
       "      <td>08-Jul-72</td>\n",
       "      <td>Left_Hand</td>\n",
       "      <td>Right-arm medium</td>\n",
       "      <td>India</td>\n",
       "      <td>0</td>\n",
       "      <td>NaN</td>\n",
       "    </tr>\n",
       "    <tr>\n",
       "      <th>1</th>\n",
       "      <td>335987</td>\n",
       "      <td>1</td>\n",
       "      <td>1</td>\n",
       "      <td>2</td>\n",
       "      <td>1</td>\n",
       "      <td>2</td>\n",
       "      <td>2</td>\n",
       "      <td>2</td>\n",
       "      <td>1</td>\n",
       "      <td>14</td>\n",
       "      <td>...</td>\n",
       "      <td></td>\n",
       "      <td></td>\n",
       "      <td></td>\n",
       "      <td>BB McCullum</td>\n",
       "      <td>27-Sep-81</td>\n",
       "      <td>Right_Hand</td>\n",
       "      <td>Right-arm medium</td>\n",
       "      <td>New Zealand</td>\n",
       "      <td>0</td>\n",
       "      <td>NaN</td>\n",
       "    </tr>\n",
       "  </tbody>\n",
       "</table>\n",
       "<p>2 rows × 23 columns</p>\n",
       "</div>"
      ],
      "text/plain": [
       "   Match_Id  Innings_Id  Over_Id  Ball_Id  Team_Batting_Id  Team_Bowling_Id  \\\n",
       "0    335987           1        1        1                1                2   \n",
       "1    335987           1        1        2                1                2   \n",
       "\n",
       "   Player_Id  Striker_Batting_Position  Non_Striker_Id  Bowler_Id  ...  \\\n",
       "0          1                         1               2         14  ...   \n",
       "1          2                         2               1         14  ...   \n",
       "\n",
       "  Player_dissimal_Id Dissimal_Type Fielder_Id  Player_Name        DOB  \\\n",
       "0                                               SC Ganguly  08-Jul-72   \n",
       "1                                              BB McCullum  27-Sep-81   \n",
       "\n",
       "  Batting_Hand     Bowling_Skill      Country Is_Umpire Unnamed: 7  \n",
       "0    Left_Hand  Right-arm medium        India         0        NaN  \n",
       "1   Right_Hand  Right-arm medium  New Zealand         0        NaN  \n",
       "\n",
       "[2 rows x 23 columns]"
      ]
     },
     "execution_count": 187,
     "metadata": {},
     "output_type": "execute_result"
    }
   ],
   "source": [
    "merged_data.head(2)"
   ]
  },
  {
   "cell_type": "code",
   "execution_count": 173,
   "id": "527720ce-906c-4d42-9c68-cbeee18aaa65",
   "metadata": {},
   "outputs": [],
   "source": [
    "hit_six=merged_data[merged_data['Batsman_Scored']=='6']"
   ]
  },
  {
   "cell_type": "code",
   "execution_count": 174,
   "id": "1dbd96a8-c478-46dc-b729-932fbbca15e1",
   "metadata": {},
   "outputs": [],
   "source": [
    "max_six_player=hit_six.groupby(['Player_Id','Player_Name'])['Player_Name'].count().sort_values(ascending=False).head()"
   ]
  },
  {
   "cell_type": "code",
   "execution_count": 175,
   "id": "4cf7f2ce-779f-467d-8320-f154f2263697",
   "metadata": {},
   "outputs": [
    {
     "data": {
      "text/plain": [
       "Player_Id  Player_Name\n",
       "162        CH Gayle       252\n",
       "57         RG Sharma      164\n",
       "21         SK Raina       161\n",
       "8          V Kohli        148\n",
       "31         YK Pathan      143\n",
       "Name: Player_Name, dtype: int64"
      ]
     },
     "execution_count": 175,
     "metadata": {},
     "output_type": "execute_result"
    }
   ],
   "source": [
    "max_six_player"
   ]
  },
  {
   "cell_type": "markdown",
   "id": "83dc8fc3-5b31-4571-9605-ab26fcdc9bf2",
   "metadata": {},
   "source": [
    "### Players who hit maximum runs"
   ]
  },
  {
   "cell_type": "code",
   "execution_count": 176,
   "id": "f898fce1-5f3b-4e6e-9759-ca0e4432e6e1",
   "metadata": {},
   "outputs": [
    {
     "data": {
      "text/plain": [
       "array(['0', '4', '6', '1', '2', 'Do_nothing', '5', '3', ' '], dtype=object)"
      ]
     },
     "execution_count": 176,
     "metadata": {},
     "output_type": "execute_result"
    }
   ],
   "source": [
    "merged_data['Batsman_Scored'].unique()"
   ]
  },
  {
   "cell_type": "code",
   "execution_count": 177,
   "id": "076a3053-ccf5-47b1-8536-066391e51571",
   "metadata": {},
   "outputs": [],
   "source": [
    "d=merged_data[(merged_data['Batsman_Scored']!='Do_nothing')&(df['Batsman_Scored']!=' ')]"
   ]
  },
  {
   "cell_type": "code",
   "execution_count": 178,
   "id": "cedcbaf5-5b92-4962-ad7b-7707bb8ee807",
   "metadata": {},
   "outputs": [
    {
     "data": {
      "text/plain": [
       "array(['0', '4', '6', '1', '2', '5', '3'], dtype=object)"
      ]
     },
     "execution_count": 178,
     "metadata": {},
     "output_type": "execute_result"
    }
   ],
   "source": [
    "d['Batsman_Scored'].unique()"
   ]
  },
  {
   "cell_type": "code",
   "execution_count": 180,
   "id": "319f6749-4334-4783-9342-b81587ce4109",
   "metadata": {},
   "outputs": [
    {
     "name": "stderr",
     "output_type": "stream",
     "text": [
      "C:\\Users\\91926\\AppData\\Local\\Temp\\ipykernel_32528\\3662206438.py:1: SettingWithCopyWarning: \n",
      "A value is trying to be set on a copy of a slice from a DataFrame.\n",
      "Try using .loc[row_indexer,col_indexer] = value instead\n",
      "\n",
      "See the caveats in the documentation: https://pandas.pydata.org/pandas-docs/stable/user_guide/indexing.html#returning-a-view-versus-a-copy\n",
      "  d['Batsman_Scored']=pd.to_numeric(d['Batsman_Scored'])\n"
     ]
    }
   ],
   "source": [
    "d['Batsman_Scored']=pd.to_numeric(d['Batsman_Scored'])"
   ]
  },
  {
   "cell_type": "code",
   "execution_count": 183,
   "id": "e9b811b9-9c6d-43b6-a684-0fb825a5cf25",
   "metadata": {},
   "outputs": [],
   "source": [
    "max_runs=d.groupby(['Player_Id','Player_Name'])['Batsman_Scored'].sum().sort_values(ascending=False).head()"
   ]
  },
  {
   "cell_type": "code",
   "execution_count": 184,
   "id": "ebd4c85f-9aae-4dc3-b6d8-55116ab8ebbb",
   "metadata": {},
   "outputs": [
    {
     "data": {
      "text/plain": [
       "Player_Id  Player_Name\n",
       "21         SK Raina       4106\n",
       "8          V Kohli        4105\n",
       "57         RG Sharma      3874\n",
       "40         G Gambhir      3634\n",
       "162        CH Gayle       3447\n",
       "Name: Batsman_Scored, dtype: int64"
      ]
     },
     "execution_count": 184,
     "metadata": {},
     "output_type": "execute_result"
    }
   ],
   "source": [
    "max_runs"
   ]
  },
  {
   "cell_type": "markdown",
   "id": "5b6da236-0c76-44c6-8313-1afcefde1292",
   "metadata": {},
   "source": [
    "### Players who faced maximum balls"
   ]
  },
  {
   "cell_type": "code",
   "execution_count": 197,
   "id": "ee72d489-e163-45d8-99b0-2657058d70ab",
   "metadata": {},
   "outputs": [
    {
     "data": {
      "text/plain": [
       "array(['legbyes', ' ', 'wides', 'byes', 'noballs', 'penalty'],\n",
       "      dtype=object)"
      ]
     },
     "execution_count": 197,
     "metadata": {},
     "output_type": "execute_result"
    }
   ],
   "source": [
    "merged_data['Extra_Type'].unique()"
   ]
  },
  {
   "cell_type": "code",
   "execution_count": 198,
   "id": "0405c0f2-e272-4ee8-ab3a-5203cad43869",
   "metadata": {},
   "outputs": [],
   "source": [
    "balls=merged_data[(merged_data['Extra_Type']!='wides')&(merged_data['Extra_Type']!='noballs')]"
   ]
  },
  {
   "cell_type": "code",
   "execution_count": 199,
   "id": "23aff0a6-8e99-4061-8de7-c98e49e55e27",
   "metadata": {},
   "outputs": [
    {
     "data": {
      "text/plain": [
       "array(['legbyes', ' ', 'byes', 'penalty'], dtype=object)"
      ]
     },
     "execution_count": 199,
     "metadata": {},
     "output_type": "execute_result"
    }
   ],
   "source": [
    "balls['Extra_Type'].unique()"
   ]
  },
  {
   "cell_type": "code",
   "execution_count": 200,
   "id": "25e6bd0a-e02e-47f6-aa20-9a4d033968ee",
   "metadata": {},
   "outputs": [],
   "source": [
    "max_balls_faced=balls.groupby(['Player_Id','Player_Name'])['Player_Id'].count().sort_values(ascending=False).head()"
   ]
  },
  {
   "cell_type": "code",
   "execution_count": 201,
   "id": "fe4fe057-a846-4d9f-84b5-6c25e880a7f0",
   "metadata": {},
   "outputs": [
    {
     "data": {
      "text/plain": [
       "Player_Id  Player_Name\n",
       "8          V Kohli        3156\n",
       "21         SK Raina       2955\n",
       "57         RG Sharma      2943\n",
       "40         G Gambhir      2939\n",
       "46         RV Uthappa     2640\n",
       "Name: Player_Id, dtype: int64"
      ]
     },
     "execution_count": 201,
     "metadata": {},
     "output_type": "execute_result"
    }
   ],
   "source": [
    "max_balls_faced"
   ]
  },
  {
   "cell_type": "markdown",
   "id": "8050b9b8-9410-4c94-a31f-2e3145854360",
   "metadata": {},
   "source": [
    "### Players who wasted maximum balls"
   ]
  },
  {
   "cell_type": "code",
   "execution_count": 205,
   "id": "397ce87c-e9f8-41a7-80fc-6f45be450672",
   "metadata": {},
   "outputs": [],
   "source": [
    "max_balls=merged_data[merged_data['Batsman_Scored']=='0']"
   ]
  },
  {
   "cell_type": "code",
   "execution_count": 206,
   "id": "d907940d-04af-40d4-8463-88847cf43a13",
   "metadata": {},
   "outputs": [],
   "source": [
    "wasted_max_balls=max_balls.groupby(['Player_Name','Player_Id'])['Player_Id'].count().sort_values(ascending=False).head()"
   ]
  },
  {
   "cell_type": "code",
   "execution_count": 207,
   "id": "c1f704f1-567b-4a57-a019-34a3d3926f40",
   "metadata": {},
   "outputs": [
    {
     "data": {
      "text/plain": [
       "Player_Name  Player_Id\n",
       "V Kohli      8            1191\n",
       "G Gambhir    40           1166\n",
       "RV Uthappa   46           1089\n",
       "CH Gayle     162          1088\n",
       "SK Raina     21           1081\n",
       "Name: Player_Id, dtype: int64"
      ]
     },
     "execution_count": 207,
     "metadata": {},
     "output_type": "execute_result"
    }
   ],
   "source": [
    "wasted_max_balls"
   ]
  },
  {
   "cell_type": "markdown",
   "id": "a636efd6-f5e1-4306-97a7-9681cadb0f4e",
   "metadata": {},
   "source": [
    "## 3rd part of assignment"
   ]
  },
  {
   "cell_type": "markdown",
   "id": "bb4d549e-99ef-4f55-ba8a-d7c2b580a9e9",
   "metadata": {},
   "source": [
    "### Top 5 Stadiums which hosted maximum matches"
   ]
  },
  {
   "cell_type": "code",
   "execution_count": 209,
   "id": "ae587831-e0bb-4b33-9b96-a012a570c94f",
   "metadata": {},
   "outputs": [],
   "source": [
    "Match=pd.read_csv(r'C:\\Users\\91926\\Downloads\\Match - Match.csv')"
   ]
  },
  {
   "cell_type": "code",
   "execution_count": 210,
   "id": "8a227e3a-f1c5-4da4-add1-9cebdcf17fea",
   "metadata": {},
   "outputs": [
    {
     "data": {
      "text/html": [
       "<div>\n",
       "<style scoped>\n",
       "    .dataframe tbody tr th:only-of-type {\n",
       "        vertical-align: middle;\n",
       "    }\n",
       "\n",
       "    .dataframe tbody tr th {\n",
       "        vertical-align: top;\n",
       "    }\n",
       "\n",
       "    .dataframe thead th {\n",
       "        text-align: right;\n",
       "    }\n",
       "</style>\n",
       "<table border=\"1\" class=\"dataframe\">\n",
       "  <thead>\n",
       "    <tr style=\"text-align: right;\">\n",
       "      <th></th>\n",
       "      <th>Match_Id</th>\n",
       "      <th>Match_Date</th>\n",
       "      <th>Team_Name_Id</th>\n",
       "      <th>Opponent_Team_Id</th>\n",
       "      <th>Season_Id</th>\n",
       "      <th>Venue_Name</th>\n",
       "      <th>Toss_Winner_Id</th>\n",
       "      <th>Toss_Decision</th>\n",
       "      <th>IS_Superover</th>\n",
       "      <th>IS_Result</th>\n",
       "      <th>Is_DuckWorthLewis</th>\n",
       "      <th>Win_Type</th>\n",
       "      <th>Won_By</th>\n",
       "      <th>Match_Winner_Id</th>\n",
       "      <th>Man_Of_The_Match_Id</th>\n",
       "      <th>First_Umpire_Id</th>\n",
       "      <th>Second_Umpire_Id</th>\n",
       "      <th>City_Name</th>\n",
       "      <th>Host_Country</th>\n",
       "    </tr>\n",
       "  </thead>\n",
       "  <tbody>\n",
       "    <tr>\n",
       "      <th>0</th>\n",
       "      <td>335987</td>\n",
       "      <td>18-Apr-08</td>\n",
       "      <td>2</td>\n",
       "      <td>1</td>\n",
       "      <td>1</td>\n",
       "      <td>M Chinnaswamy Stadium</td>\n",
       "      <td>2</td>\n",
       "      <td>field</td>\n",
       "      <td>0</td>\n",
       "      <td>1</td>\n",
       "      <td>0</td>\n",
       "      <td>by runs</td>\n",
       "      <td>140.0</td>\n",
       "      <td>1.0</td>\n",
       "      <td>2.0</td>\n",
       "      <td>470</td>\n",
       "      <td>477</td>\n",
       "      <td>Bangalore</td>\n",
       "      <td>India</td>\n",
       "    </tr>\n",
       "    <tr>\n",
       "      <th>1</th>\n",
       "      <td>335988</td>\n",
       "      <td>19-Apr-08</td>\n",
       "      <td>4</td>\n",
       "      <td>3</td>\n",
       "      <td>1</td>\n",
       "      <td>Punjab Cricket Association Stadium, Mohali</td>\n",
       "      <td>3</td>\n",
       "      <td>bat</td>\n",
       "      <td>0</td>\n",
       "      <td>1</td>\n",
       "      <td>0</td>\n",
       "      <td>by runs</td>\n",
       "      <td>33.0</td>\n",
       "      <td>3.0</td>\n",
       "      <td>19.0</td>\n",
       "      <td>471</td>\n",
       "      <td>487</td>\n",
       "      <td>Chandigarh</td>\n",
       "      <td>India</td>\n",
       "    </tr>\n",
       "    <tr>\n",
       "      <th>2</th>\n",
       "      <td>335989</td>\n",
       "      <td>19-Apr-08</td>\n",
       "      <td>6</td>\n",
       "      <td>5</td>\n",
       "      <td>1</td>\n",
       "      <td>Feroz Shah Kotla</td>\n",
       "      <td>5</td>\n",
       "      <td>bat</td>\n",
       "      <td>0</td>\n",
       "      <td>1</td>\n",
       "      <td>0</td>\n",
       "      <td>by wickets</td>\n",
       "      <td>9.0</td>\n",
       "      <td>6.0</td>\n",
       "      <td>90.0</td>\n",
       "      <td>472</td>\n",
       "      <td>512</td>\n",
       "      <td>Delhi</td>\n",
       "      <td>India</td>\n",
       "    </tr>\n",
       "    <tr>\n",
       "      <th>3</th>\n",
       "      <td>335990</td>\n",
       "      <td>20-Apr-08</td>\n",
       "      <td>7</td>\n",
       "      <td>2</td>\n",
       "      <td>1</td>\n",
       "      <td>Wankhede Stadium</td>\n",
       "      <td>7</td>\n",
       "      <td>bat</td>\n",
       "      <td>0</td>\n",
       "      <td>1</td>\n",
       "      <td>0</td>\n",
       "      <td>by wickets</td>\n",
       "      <td>5.0</td>\n",
       "      <td>2.0</td>\n",
       "      <td>11.0</td>\n",
       "      <td>473</td>\n",
       "      <td>476</td>\n",
       "      <td>Mumbai</td>\n",
       "      <td>India</td>\n",
       "    </tr>\n",
       "    <tr>\n",
       "      <th>4</th>\n",
       "      <td>335991</td>\n",
       "      <td>20-Apr-08</td>\n",
       "      <td>1</td>\n",
       "      <td>8</td>\n",
       "      <td>1</td>\n",
       "      <td>Eden Gardens</td>\n",
       "      <td>8</td>\n",
       "      <td>bat</td>\n",
       "      <td>0</td>\n",
       "      <td>1</td>\n",
       "      <td>0</td>\n",
       "      <td>by wickets</td>\n",
       "      <td>5.0</td>\n",
       "      <td>1.0</td>\n",
       "      <td>4.0</td>\n",
       "      <td>474</td>\n",
       "      <td>486</td>\n",
       "      <td>Kolkata</td>\n",
       "      <td>India</td>\n",
       "    </tr>\n",
       "  </tbody>\n",
       "</table>\n",
       "</div>"
      ],
      "text/plain": [
       "   Match_Id Match_Date  Team_Name_Id  Opponent_Team_Id  Season_Id  \\\n",
       "0    335987  18-Apr-08             2                 1          1   \n",
       "1    335988  19-Apr-08             4                 3          1   \n",
       "2    335989  19-Apr-08             6                 5          1   \n",
       "3    335990  20-Apr-08             7                 2          1   \n",
       "4    335991  20-Apr-08             1                 8          1   \n",
       "\n",
       "                                   Venue_Name  Toss_Winner_Id Toss_Decision  \\\n",
       "0                       M Chinnaswamy Stadium               2         field   \n",
       "1  Punjab Cricket Association Stadium, Mohali               3           bat   \n",
       "2                            Feroz Shah Kotla               5           bat   \n",
       "3                            Wankhede Stadium               7           bat   \n",
       "4                                Eden Gardens               8           bat   \n",
       "\n",
       "   IS_Superover  IS_Result  Is_DuckWorthLewis    Win_Type  Won_By  \\\n",
       "0             0          1                  0     by runs   140.0   \n",
       "1             0          1                  0     by runs    33.0   \n",
       "2             0          1                  0  by wickets     9.0   \n",
       "3             0          1                  0  by wickets     5.0   \n",
       "4             0          1                  0  by wickets     5.0   \n",
       "\n",
       "   Match_Winner_Id  Man_Of_The_Match_Id  First_Umpire_Id  Second_Umpire_Id  \\\n",
       "0              1.0                  2.0              470               477   \n",
       "1              3.0                 19.0              471               487   \n",
       "2              6.0                 90.0              472               512   \n",
       "3              2.0                 11.0              473               476   \n",
       "4              1.0                  4.0              474               486   \n",
       "\n",
       "    City_Name Host_Country  \n",
       "0   Bangalore        India  \n",
       "1  Chandigarh        India  \n",
       "2       Delhi        India  \n",
       "3      Mumbai        India  \n",
       "4     Kolkata        India  "
      ]
     },
     "execution_count": 210,
     "metadata": {},
     "output_type": "execute_result"
    }
   ],
   "source": [
    "Match.head(5)"
   ]
  },
  {
   "cell_type": "code",
   "execution_count": 212,
   "id": "e8c9e544-61cf-4c39-883f-de3b883a7178",
   "metadata": {},
   "outputs": [],
   "source": [
    "max_host_stadium=Match.groupby('Venue_Name')['Venue_Name'].count().sort_values(ascending=False).head()"
   ]
  },
  {
   "cell_type": "code",
   "execution_count": 213,
   "id": "773fbf53-7c02-4c97-9d0e-8ced1bfcde20",
   "metadata": {},
   "outputs": [
    {
     "data": {
      "text/plain": [
       "Venue_Name\n",
       "M Chinnaswamy Stadium              58\n",
       "Eden Gardens                       54\n",
       "Feroz Shah Kotla                   53\n",
       "Wankhede Stadium                   49\n",
       "MA Chidambaram Stadium, Chepauk    48\n",
       "Name: Venue_Name, dtype: int64"
      ]
     },
     "execution_count": 213,
     "metadata": {},
     "output_type": "execute_result"
    }
   ],
   "source": [
    "max_host_stadium"
   ]
  },
  {
   "cell_type": "markdown",
   "id": "77951ffa-d695-4484-ba6d-d45296a98f22",
   "metadata": {},
   "source": [
    "## 4th part of assignment"
   ]
  },
  {
   "cell_type": "code",
   "execution_count": 216,
   "id": "260102a1-15bd-41f1-b480-429a61c6e8c7",
   "metadata": {},
   "outputs": [],
   "source": [
    "data=pd.read_csv(r'C:\\Users\\91926\\Downloads\\Team - Team.csv')"
   ]
  },
  {
   "cell_type": "code",
   "execution_count": 218,
   "id": "eadbdf3c-bd73-4f0d-a15a-6bfcca9c13e2",
   "metadata": {},
   "outputs": [
    {
     "data": {
      "text/html": [
       "<div>\n",
       "<style scoped>\n",
       "    .dataframe tbody tr th:only-of-type {\n",
       "        vertical-align: middle;\n",
       "    }\n",
       "\n",
       "    .dataframe tbody tr th {\n",
       "        vertical-align: top;\n",
       "    }\n",
       "\n",
       "    .dataframe thead th {\n",
       "        text-align: right;\n",
       "    }\n",
       "</style>\n",
       "<table border=\"1\" class=\"dataframe\">\n",
       "  <thead>\n",
       "    <tr style=\"text-align: right;\">\n",
       "      <th></th>\n",
       "      <th>Team_Id</th>\n",
       "      <th>Team_Name</th>\n",
       "      <th>Team_Short_Code</th>\n",
       "    </tr>\n",
       "  </thead>\n",
       "  <tbody>\n",
       "    <tr>\n",
       "      <th>0</th>\n",
       "      <td>1</td>\n",
       "      <td>Kolkata Knight Riders</td>\n",
       "      <td>KKR</td>\n",
       "    </tr>\n",
       "    <tr>\n",
       "      <th>1</th>\n",
       "      <td>2</td>\n",
       "      <td>Royal Challengers Bangalore</td>\n",
       "      <td>RCB</td>\n",
       "    </tr>\n",
       "    <tr>\n",
       "      <th>2</th>\n",
       "      <td>3</td>\n",
       "      <td>Chennai Super Kings</td>\n",
       "      <td>CSK</td>\n",
       "    </tr>\n",
       "    <tr>\n",
       "      <th>3</th>\n",
       "      <td>4</td>\n",
       "      <td>Kings XI Punjab</td>\n",
       "      <td>KXIP</td>\n",
       "    </tr>\n",
       "    <tr>\n",
       "      <th>4</th>\n",
       "      <td>5</td>\n",
       "      <td>Rajasthan Royals</td>\n",
       "      <td>RR</td>\n",
       "    </tr>\n",
       "    <tr>\n",
       "      <th>5</th>\n",
       "      <td>6</td>\n",
       "      <td>Delhi Daredevils</td>\n",
       "      <td>DD</td>\n",
       "    </tr>\n",
       "    <tr>\n",
       "      <th>6</th>\n",
       "      <td>7</td>\n",
       "      <td>Mumbai Indians</td>\n",
       "      <td>MI</td>\n",
       "    </tr>\n",
       "    <tr>\n",
       "      <th>7</th>\n",
       "      <td>8</td>\n",
       "      <td>Deccan Chargers</td>\n",
       "      <td>DC</td>\n",
       "    </tr>\n",
       "    <tr>\n",
       "      <th>8</th>\n",
       "      <td>9</td>\n",
       "      <td>Kochi Tuskers Kerala</td>\n",
       "      <td>KTK</td>\n",
       "    </tr>\n",
       "    <tr>\n",
       "      <th>9</th>\n",
       "      <td>10</td>\n",
       "      <td>Pune Warriors</td>\n",
       "      <td>PW</td>\n",
       "    </tr>\n",
       "    <tr>\n",
       "      <th>10</th>\n",
       "      <td>11</td>\n",
       "      <td>Sunrisers Hyderabad</td>\n",
       "      <td>SRH</td>\n",
       "    </tr>\n",
       "    <tr>\n",
       "      <th>11</th>\n",
       "      <td>12</td>\n",
       "      <td>Rising Pune Supergiants</td>\n",
       "      <td>RPS</td>\n",
       "    </tr>\n",
       "    <tr>\n",
       "      <th>12</th>\n",
       "      <td>13</td>\n",
       "      <td>Gujarat Lions</td>\n",
       "      <td>GL</td>\n",
       "    </tr>\n",
       "  </tbody>\n",
       "</table>\n",
       "</div>"
      ],
      "text/plain": [
       "    Team_Id                    Team_Name Team_Short_Code\n",
       "0         1        Kolkata Knight Riders             KKR\n",
       "1         2  Royal Challengers Bangalore             RCB\n",
       "2         3          Chennai Super Kings             CSK\n",
       "3         4              Kings XI Punjab            KXIP\n",
       "4         5             Rajasthan Royals              RR\n",
       "5         6             Delhi Daredevils              DD\n",
       "6         7               Mumbai Indians              MI\n",
       "7         8              Deccan Chargers              DC\n",
       "8         9         Kochi Tuskers Kerala             KTK\n",
       "9        10                Pune Warriors              PW\n",
       "10       11          Sunrisers Hyderabad             SRH\n",
       "11       12      Rising Pune Supergiants             RPS\n",
       "12       13                Gujarat Lions              GL"
      ]
     },
     "execution_count": 218,
     "metadata": {},
     "output_type": "execute_result"
    }
   ],
   "source": [
    "data"
   ]
  },
  {
   "cell_type": "code",
   "execution_count": 222,
   "id": "6667a64f-b0fd-4ea7-9cde-d3de6d5f86ef",
   "metadata": {},
   "outputs": [],
   "source": [
    "data1= Match.rename(columns={'Team_Name_Id':'Team_Id'})"
   ]
  },
  {
   "cell_type": "code",
   "execution_count": 223,
   "id": "f683e614-ad7e-4c6d-a5f5-287c1eea241f",
   "metadata": {},
   "outputs": [
    {
     "data": {
      "text/html": [
       "<div>\n",
       "<style scoped>\n",
       "    .dataframe tbody tr th:only-of-type {\n",
       "        vertical-align: middle;\n",
       "    }\n",
       "\n",
       "    .dataframe tbody tr th {\n",
       "        vertical-align: top;\n",
       "    }\n",
       "\n",
       "    .dataframe thead th {\n",
       "        text-align: right;\n",
       "    }\n",
       "</style>\n",
       "<table border=\"1\" class=\"dataframe\">\n",
       "  <thead>\n",
       "    <tr style=\"text-align: right;\">\n",
       "      <th></th>\n",
       "      <th>Match_Id</th>\n",
       "      <th>Match_Date</th>\n",
       "      <th>Team_Id</th>\n",
       "      <th>Opponent_Team_Id</th>\n",
       "      <th>Season_Id</th>\n",
       "      <th>Venue_Name</th>\n",
       "      <th>Toss_Winner_Id</th>\n",
       "      <th>Toss_Decision</th>\n",
       "      <th>IS_Superover</th>\n",
       "      <th>IS_Result</th>\n",
       "      <th>Is_DuckWorthLewis</th>\n",
       "      <th>Win_Type</th>\n",
       "      <th>Won_By</th>\n",
       "      <th>Match_Winner_Id</th>\n",
       "      <th>Man_Of_The_Match_Id</th>\n",
       "      <th>First_Umpire_Id</th>\n",
       "      <th>Second_Umpire_Id</th>\n",
       "      <th>City_Name</th>\n",
       "      <th>Host_Country</th>\n",
       "    </tr>\n",
       "  </thead>\n",
       "  <tbody>\n",
       "    <tr>\n",
       "      <th>0</th>\n",
       "      <td>335987</td>\n",
       "      <td>18-Apr-08</td>\n",
       "      <td>2</td>\n",
       "      <td>1</td>\n",
       "      <td>1</td>\n",
       "      <td>M Chinnaswamy Stadium</td>\n",
       "      <td>2</td>\n",
       "      <td>field</td>\n",
       "      <td>0</td>\n",
       "      <td>1</td>\n",
       "      <td>0</td>\n",
       "      <td>by runs</td>\n",
       "      <td>140.0</td>\n",
       "      <td>1.0</td>\n",
       "      <td>2.0</td>\n",
       "      <td>470</td>\n",
       "      <td>477</td>\n",
       "      <td>Bangalore</td>\n",
       "      <td>India</td>\n",
       "    </tr>\n",
       "    <tr>\n",
       "      <th>1</th>\n",
       "      <td>335988</td>\n",
       "      <td>19-Apr-08</td>\n",
       "      <td>4</td>\n",
       "      <td>3</td>\n",
       "      <td>1</td>\n",
       "      <td>Punjab Cricket Association Stadium, Mohali</td>\n",
       "      <td>3</td>\n",
       "      <td>bat</td>\n",
       "      <td>0</td>\n",
       "      <td>1</td>\n",
       "      <td>0</td>\n",
       "      <td>by runs</td>\n",
       "      <td>33.0</td>\n",
       "      <td>3.0</td>\n",
       "      <td>19.0</td>\n",
       "      <td>471</td>\n",
       "      <td>487</td>\n",
       "      <td>Chandigarh</td>\n",
       "      <td>India</td>\n",
       "    </tr>\n",
       "    <tr>\n",
       "      <th>2</th>\n",
       "      <td>335989</td>\n",
       "      <td>19-Apr-08</td>\n",
       "      <td>6</td>\n",
       "      <td>5</td>\n",
       "      <td>1</td>\n",
       "      <td>Feroz Shah Kotla</td>\n",
       "      <td>5</td>\n",
       "      <td>bat</td>\n",
       "      <td>0</td>\n",
       "      <td>1</td>\n",
       "      <td>0</td>\n",
       "      <td>by wickets</td>\n",
       "      <td>9.0</td>\n",
       "      <td>6.0</td>\n",
       "      <td>90.0</td>\n",
       "      <td>472</td>\n",
       "      <td>512</td>\n",
       "      <td>Delhi</td>\n",
       "      <td>India</td>\n",
       "    </tr>\n",
       "  </tbody>\n",
       "</table>\n",
       "</div>"
      ],
      "text/plain": [
       "   Match_Id Match_Date  Team_Id  Opponent_Team_Id  Season_Id  \\\n",
       "0    335987  18-Apr-08        2                 1          1   \n",
       "1    335988  19-Apr-08        4                 3          1   \n",
       "2    335989  19-Apr-08        6                 5          1   \n",
       "\n",
       "                                   Venue_Name  Toss_Winner_Id Toss_Decision  \\\n",
       "0                       M Chinnaswamy Stadium               2         field   \n",
       "1  Punjab Cricket Association Stadium, Mohali               3           bat   \n",
       "2                            Feroz Shah Kotla               5           bat   \n",
       "\n",
       "   IS_Superover  IS_Result  Is_DuckWorthLewis    Win_Type  Won_By  \\\n",
       "0             0          1                  0     by runs   140.0   \n",
       "1             0          1                  0     by runs    33.0   \n",
       "2             0          1                  0  by wickets     9.0   \n",
       "\n",
       "   Match_Winner_Id  Man_Of_The_Match_Id  First_Umpire_Id  Second_Umpire_Id  \\\n",
       "0              1.0                  2.0              470               477   \n",
       "1              3.0                 19.0              471               487   \n",
       "2              6.0                 90.0              472               512   \n",
       "\n",
       "    City_Name Host_Country  \n",
       "0   Bangalore        India  \n",
       "1  Chandigarh        India  \n",
       "2       Delhi        India  "
      ]
     },
     "execution_count": 223,
     "metadata": {},
     "output_type": "execute_result"
    }
   ],
   "source": [
    "data1.head(3)"
   ]
  },
  {
   "cell_type": "code",
   "execution_count": 225,
   "id": "0a636b6c-f7da-4f78-9aa3-bad9907d0e6a",
   "metadata": {},
   "outputs": [],
   "source": [
    "team_data=pd.merge(data,data1,on='Team_Id')"
   ]
  },
  {
   "cell_type": "code",
   "execution_count": 226,
   "id": "bb6cb0c2-9fe3-4cf5-ad96-4f8f2e45a6dd",
   "metadata": {},
   "outputs": [
    {
     "data": {
      "text/html": [
       "<div>\n",
       "<style scoped>\n",
       "    .dataframe tbody tr th:only-of-type {\n",
       "        vertical-align: middle;\n",
       "    }\n",
       "\n",
       "    .dataframe tbody tr th {\n",
       "        vertical-align: top;\n",
       "    }\n",
       "\n",
       "    .dataframe thead th {\n",
       "        text-align: right;\n",
       "    }\n",
       "</style>\n",
       "<table border=\"1\" class=\"dataframe\">\n",
       "  <thead>\n",
       "    <tr style=\"text-align: right;\">\n",
       "      <th></th>\n",
       "      <th>Team_Id</th>\n",
       "      <th>Team_Name</th>\n",
       "      <th>Team_Short_Code</th>\n",
       "      <th>Match_Id</th>\n",
       "      <th>Match_Date</th>\n",
       "      <th>Opponent_Team_Id</th>\n",
       "      <th>Season_Id</th>\n",
       "      <th>Venue_Name</th>\n",
       "      <th>Toss_Winner_Id</th>\n",
       "      <th>Toss_Decision</th>\n",
       "      <th>...</th>\n",
       "      <th>IS_Result</th>\n",
       "      <th>Is_DuckWorthLewis</th>\n",
       "      <th>Win_Type</th>\n",
       "      <th>Won_By</th>\n",
       "      <th>Match_Winner_Id</th>\n",
       "      <th>Man_Of_The_Match_Id</th>\n",
       "      <th>First_Umpire_Id</th>\n",
       "      <th>Second_Umpire_Id</th>\n",
       "      <th>City_Name</th>\n",
       "      <th>Host_Country</th>\n",
       "    </tr>\n",
       "  </thead>\n",
       "  <tbody>\n",
       "    <tr>\n",
       "      <th>0</th>\n",
       "      <td>1</td>\n",
       "      <td>Kolkata Knight Riders</td>\n",
       "      <td>KKR</td>\n",
       "      <td>335991</td>\n",
       "      <td>20-Apr-08</td>\n",
       "      <td>8</td>\n",
       "      <td>1</td>\n",
       "      <td>Eden Gardens</td>\n",
       "      <td>8</td>\n",
       "      <td>bat</td>\n",
       "      <td>...</td>\n",
       "      <td>1</td>\n",
       "      <td>0</td>\n",
       "      <td>by wickets</td>\n",
       "      <td>5.0</td>\n",
       "      <td>1.0</td>\n",
       "      <td>4.0</td>\n",
       "      <td>474</td>\n",
       "      <td>486</td>\n",
       "      <td>Kolkata</td>\n",
       "      <td>India</td>\n",
       "    </tr>\n",
       "    <tr>\n",
       "      <th>1</th>\n",
       "      <td>1</td>\n",
       "      <td>Kolkata Knight Riders</td>\n",
       "      <td>KKR</td>\n",
       "      <td>336002</td>\n",
       "      <td>29-Apr-08</td>\n",
       "      <td>7</td>\n",
       "      <td>1</td>\n",
       "      <td>Eden Gardens</td>\n",
       "      <td>1</td>\n",
       "      <td>bat</td>\n",
       "      <td>...</td>\n",
       "      <td>1</td>\n",
       "      <td>0</td>\n",
       "      <td>by wickets</td>\n",
       "      <td>7.0</td>\n",
       "      <td>7.0</td>\n",
       "      <td>44.0</td>\n",
       "      <td>474</td>\n",
       "      <td>479</td>\n",
       "      <td>Kolkata</td>\n",
       "      <td>India</td>\n",
       "    </tr>\n",
       "    <tr>\n",
       "      <th>2</th>\n",
       "      <td>1</td>\n",
       "      <td>Kolkata Knight Riders</td>\n",
       "      <td>KKR</td>\n",
       "      <td>336015</td>\n",
       "      <td>08-May-08</td>\n",
       "      <td>2</td>\n",
       "      <td>1</td>\n",
       "      <td>Eden Gardens</td>\n",
       "      <td>1</td>\n",
       "      <td>bat</td>\n",
       "      <td>...</td>\n",
       "      <td>1</td>\n",
       "      <td>0</td>\n",
       "      <td>by runs</td>\n",
       "      <td>5.0</td>\n",
       "      <td>1.0</td>\n",
       "      <td>1.0</td>\n",
       "      <td>470</td>\n",
       "      <td>475</td>\n",
       "      <td>Kolkata</td>\n",
       "      <td>India</td>\n",
       "    </tr>\n",
       "  </tbody>\n",
       "</table>\n",
       "<p>3 rows × 21 columns</p>\n",
       "</div>"
      ],
      "text/plain": [
       "   Team_Id              Team_Name Team_Short_Code  Match_Id Match_Date  \\\n",
       "0        1  Kolkata Knight Riders             KKR    335991  20-Apr-08   \n",
       "1        1  Kolkata Knight Riders             KKR    336002  29-Apr-08   \n",
       "2        1  Kolkata Knight Riders             KKR    336015  08-May-08   \n",
       "\n",
       "   Opponent_Team_Id  Season_Id    Venue_Name  Toss_Winner_Id Toss_Decision  \\\n",
       "0                 8          1  Eden Gardens               8           bat   \n",
       "1                 7          1  Eden Gardens               1           bat   \n",
       "2                 2          1  Eden Gardens               1           bat   \n",
       "\n",
       "   ...  IS_Result  Is_DuckWorthLewis    Win_Type Won_By  Match_Winner_Id  \\\n",
       "0  ...          1                  0  by wickets    5.0              1.0   \n",
       "1  ...          1                  0  by wickets    7.0              7.0   \n",
       "2  ...          1                  0     by runs    5.0              1.0   \n",
       "\n",
       "   Man_Of_The_Match_Id  First_Umpire_Id  Second_Umpire_Id  City_Name  \\\n",
       "0                  4.0              474               486    Kolkata   \n",
       "1                 44.0              474               479    Kolkata   \n",
       "2                  1.0              470               475    Kolkata   \n",
       "\n",
       "  Host_Country  \n",
       "0        India  \n",
       "1        India  \n",
       "2        India  \n",
       "\n",
       "[3 rows x 21 columns]"
      ]
     },
     "execution_count": 226,
     "metadata": {},
     "output_type": "execute_result"
    }
   ],
   "source": [
    "team_data.head(3)"
   ]
  },
  {
   "cell_type": "markdown",
   "id": "76137d11-81ae-4679-afa4-944a42da33f6",
   "metadata": {},
   "source": [
    "### Maximum toss winning team"
   ]
  },
  {
   "cell_type": "code",
   "execution_count": 230,
   "id": "5e70747a-2601-4cb8-9ad9-0fc2d9d148c0",
   "metadata": {},
   "outputs": [],
   "source": [
    "max_toss_win=team_data.groupby(['Team_Id','Team_Name'])['Toss_Winner_Id'].count().sort_values(ascending=False).head(1)"
   ]
  },
  {
   "cell_type": "code",
   "execution_count": 231,
   "id": "afd6ce86-2ddc-45f9-83b2-e2a00a7b684f",
   "metadata": {},
   "outputs": [
    {
     "data": {
      "text/plain": [
       "Team_Id  Team_Name                  \n",
       "2        Royal Challengers Bangalore    78\n",
       "Name: Toss_Winner_Id, dtype: int64"
      ]
     },
     "execution_count": 231,
     "metadata": {},
     "output_type": "execute_result"
    }
   ],
   "source": [
    "max_toss_win"
   ]
  },
  {
   "cell_type": "markdown",
   "id": "7662b129-87ba-40fe-aea3-370f9277c2c7",
   "metadata": {},
   "source": [
    "### Maximum match winnig team"
   ]
  },
  {
   "cell_type": "code",
   "execution_count": 238,
   "id": "4a3877c7-b1f1-45df-b9ff-85006e9fa6e3",
   "metadata": {},
   "outputs": [
    {
     "data": {
      "text/plain": [
       "array([ 1.,  7.,  3.,  5.,  4.,  9.,  2.,  6., 10., 13.,  8., 11., nan,\n",
       "       12.])"
      ]
     },
     "execution_count": 238,
     "metadata": {},
     "output_type": "execute_result"
    }
   ],
   "source": [
    "team_data['Match_Winner_Id'].unique()"
   ]
  },
  {
   "cell_type": "code",
   "execution_count": 239,
   "id": "f2dd418e-d5aa-4698-92c8-94863019b82c",
   "metadata": {},
   "outputs": [],
   "source": [
    "max_match_win_team=team_data.groupby(['Team_Id','Team_Name'])['Match_Winner_Id'].count().sort_values(ascending=False).head(1)"
   ]
  },
  {
   "cell_type": "code",
   "execution_count": 240,
   "id": "10057e58-edc3-4fd6-9d24-1d05beb99648",
   "metadata": {},
   "outputs": [
    {
     "data": {
      "text/plain": [
       "Team_Id  Team_Name                  \n",
       "2        Royal Challengers Bangalore    76\n",
       "Name: Match_Winner_Id, dtype: int64"
      ]
     },
     "execution_count": 240,
     "metadata": {},
     "output_type": "execute_result"
    }
   ],
   "source": [
    "max_match_win_team"
   ]
  },
  {
   "cell_type": "markdown",
   "id": "6c413042-df50-4966-88cb-a514c465d6d9",
   "metadata": {},
   "source": [
    "### Player who won maximum man of the match award"
   ]
  },
  {
   "cell_type": "code",
   "execution_count": 242,
   "id": "758fd9ff-d7f6-4ee6-939c-d71feb550a2b",
   "metadata": {},
   "outputs": [],
   "source": [
    "df2=df1.rename(columns={'Player_Id':'Man_Of_The_Match_Id'})"
   ]
  },
  {
   "cell_type": "code",
   "execution_count": 245,
   "id": "3e1f3355-39cd-49b7-9489-d7a75de81e06",
   "metadata": {},
   "outputs": [],
   "source": [
    "df3=pd.merge(df2,team_data,on='Man_Of_The_Match_Id')"
   ]
  },
  {
   "cell_type": "code",
   "execution_count": 249,
   "id": "4f8cd669-6862-49f3-ab8f-00122a85561b",
   "metadata": {},
   "outputs": [],
   "source": [
    "max_man_of_the_match=df3.groupby(['Player_Name'])['Man_Of_The_Match_Id'].count().sort_values(ascending=False).head(1)"
   ]
  },
  {
   "cell_type": "code",
   "execution_count": 250,
   "id": "7d4ae59a-a21a-4741-88d1-40c6cd3a3516",
   "metadata": {},
   "outputs": [
    {
     "data": {
      "text/plain": [
       "Player_Name\n",
       "CH Gayle    17\n",
       "Name: Man_Of_The_Match_Id, dtype: int64"
      ]
     },
     "execution_count": 250,
     "metadata": {},
     "output_type": "execute_result"
    }
   ],
   "source": [
    "max_man_of_the_match"
   ]
  }
 ],
 "metadata": {
  "kernelspec": {
   "display_name": "Python 3 (ipykernel)",
   "language": "python",
   "name": "python3"
  },
  "language_info": {
   "codemirror_mode": {
    "name": "ipython",
    "version": 3
   },
   "file_extension": ".py",
   "mimetype": "text/x-python",
   "name": "python",
   "nbconvert_exporter": "python",
   "pygments_lexer": "ipython3",
   "version": "3.12.4"
  }
 },
 "nbformat": 4,
 "nbformat_minor": 5
}
